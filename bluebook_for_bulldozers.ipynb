{
  "nbformat": 4,
  "nbformat_minor": 0,
  "metadata": {
    "kernelspec": {
      "display_name": "Python 3",
      "language": "python",
      "name": "python3"
    },
    "language_info": {
      "codemirror_mode": {
        "name": "ipython",
        "version": 3
      },
      "file_extension": ".py",
      "mimetype": "text/x-python",
      "name": "python",
      "nbconvert_exporter": "python",
      "pygments_lexer": "ipython3",
      "version": "3.8.5"
    },
    "colab": {
      "name": "bluebook-for-bulldozers.ipynb",
      "provenance": [],
      "collapsed_sections": [],
      "toc_visible": true
    },
    "accelerator": "GPU"
  },
  "cells": [
    {
      "cell_type": "markdown",
      "metadata": {
        "id": "q67lCZltmvMk"
      },
      "source": [
        "# 🚜BlueBook for Bulldozers\n",
        "\n",
        "This notebook consist of predicting the bulldozer sales in future by creating the machine learning model based on the bulldozers historical datasets.Since, we are predicting the number so it can be understand that it is a regression related problem. So, for regression problem we use different model:\n",
        "1. Random Forest Regression\n",
        "2. Lasso\n",
        "3. Ridge Regression\n",
        "\n",
        "After performing some sort of research and understanding the datasets, these models we selected from the [sklearn official documnetation](https://scikit-learn.org/stable/tutorial/machine_learning_map/index.html).\n",
        "\n",
        "For performing the data analytics we use some python libraries used for machine learning and data visulisation:\n",
        "1. Pandas\n",
        "2. Numpy\n",
        "3. Matplotlib\n",
        "4. Scikit-Learn\n",
        "\n",
        "Thoughout the notebook we perform these steps to make ourself on track ad achieve our goal:\n",
        "1. Problem Defination\n",
        "2. Data\n",
        "3. Feature\n",
        "4. Evalutation\n",
        "5. Modeling\n",
        "6. Experimentation\n",
        "\n",
        "### Table of Content\n",
        "1. [Problem Defination](#problem-defination)\n",
        "2. [Data](#data)<br>\n",
        "    2.1 [Data Dictonary](#data-dictonary)\n",
        "3. [Feature](#feature)<br>\n",
        "    3.1 [Exploratory Data Analysis](#eda)<br>\n",
        "    3.2 [Feature Engineering](#feature-engineering)\n",
        "4. [Evaluation](#evaluation)\n",
        "5. [Modeling](#modeling)\n",
        "6. [Experimentation](#experimentation)<br>\n",
        "    6.1 [RandomizedSearch CV](#randomizedsearch-cv)<br>\n",
        "    6.2 [GridSearch CV](#gridsearch-cv)\n",
        "\n",
        "You can connect me on :\n",
        "* [Github](https://www.github.com/abhishekv5055)\n",
        "* [LinkedIn](https://www.linkedin.com/in/abhishek-vaish)\n",
        "* [Kaggle](https://www.kaggle.com/abhishekv5055)\n",
        "\n",
        "<a id='problem-defination'></a>\n",
        "\n",
        "## 1. Problem Defination\n",
        ">The whole project is based on predicting the bulldozers price in the future using the historical datasets features. We have to analysis which feature is contribute and on what factors condition the price is getting high.\n",
        "\n",
        "<a id='data'> </a>\n",
        "## 2. Data\n",
        "This datasets is downloaded from the Kaggle. You can also downloaded from [here](https://www.kaggle.com/c/bluebook-for-bulldozers/data).\n",
        "\n",
        "<a id='data-dictonary'></a>\n",
        "**Data Dictonary** \n",
        "\n",
        "You can see the data dictonary of this dataset [here]().\n",
        "<a id='feature'></a>\n",
        "## 3. Feature\n",
        "Feature include the data analytics to understand the data and find the relation between the independent variables and dependent variable and within the independent variables. We also visualize the relation to understand it more better.\n",
        "\n",
        "So, first we load up our data and do some exploratory data analysis to make some prediction from the datasets.\n",
        "<a id='eda'></a>\n",
        "### 3.1 Exploratory Data Analysis (EDA)"
      ]
    },
    {
      "cell_type": "code",
      "metadata": {
        "id": "K_BJh8iamvMz"
      },
      "source": [
        "# importing all the data visualisation module\n",
        "import pandas as pd\n",
        "import numpy as np\n",
        "import seaborn as sns\n",
        "import matplotlib.pyplot as plt\n",
        "\n",
        "%matplotlib inline\n",
        "\n",
        "# importing all the machine learning model\n",
        "from sklearn.ensemble import RandomForestRegressor\n",
        "from sklearn.linear_model import Lasso, Ridge\n",
        "\n",
        "# importing all the evaluation module\n",
        "from sklearn.model_selection import train_test_split, RandomizedSearchCV, GridSearchCV"
      ],
      "execution_count": 65,
      "outputs": []
    },
    {
      "cell_type": "code",
      "metadata": {
        "colab": {
          "base_uri": "https://localhost:8080/",
          "height": 350
        },
        "id": "iWelhHPhmvM2",
        "outputId": "7bf8aa6e-ae04-4a94-a79c-96bbbd9f1827"
      },
      "source": [
        "# load the datasets\n",
        "df = pd.read_csv('/content/TrainAndValid.csv', low_memory=False)\n",
        "df.head()"
      ],
      "execution_count": 66,
      "outputs": [
        {
          "output_type": "execute_result",
          "data": {
            "text/html": [
              "<div>\n",
              "<style scoped>\n",
              "    .dataframe tbody tr th:only-of-type {\n",
              "        vertical-align: middle;\n",
              "    }\n",
              "\n",
              "    .dataframe tbody tr th {\n",
              "        vertical-align: top;\n",
              "    }\n",
              "\n",
              "    .dataframe thead th {\n",
              "        text-align: right;\n",
              "    }\n",
              "</style>\n",
              "<table border=\"1\" class=\"dataframe\">\n",
              "  <thead>\n",
              "    <tr style=\"text-align: right;\">\n",
              "      <th></th>\n",
              "      <th>SalesID</th>\n",
              "      <th>SalePrice</th>\n",
              "      <th>MachineID</th>\n",
              "      <th>ModelID</th>\n",
              "      <th>datasource</th>\n",
              "      <th>auctioneerID</th>\n",
              "      <th>YearMade</th>\n",
              "      <th>MachineHoursCurrentMeter</th>\n",
              "      <th>UsageBand</th>\n",
              "      <th>saledate</th>\n",
              "      <th>fiModelDesc</th>\n",
              "      <th>fiBaseModel</th>\n",
              "      <th>fiSecondaryDesc</th>\n",
              "      <th>fiModelSeries</th>\n",
              "      <th>fiModelDescriptor</th>\n",
              "      <th>ProductSize</th>\n",
              "      <th>fiProductClassDesc</th>\n",
              "      <th>state</th>\n",
              "      <th>ProductGroup</th>\n",
              "      <th>ProductGroupDesc</th>\n",
              "      <th>Drive_System</th>\n",
              "      <th>Enclosure</th>\n",
              "      <th>Forks</th>\n",
              "      <th>Pad_Type</th>\n",
              "      <th>Ride_Control</th>\n",
              "      <th>Stick</th>\n",
              "      <th>Transmission</th>\n",
              "      <th>Turbocharged</th>\n",
              "      <th>Blade_Extension</th>\n",
              "      <th>Blade_Width</th>\n",
              "      <th>Enclosure_Type</th>\n",
              "      <th>Engine_Horsepower</th>\n",
              "      <th>Hydraulics</th>\n",
              "      <th>Pushblock</th>\n",
              "      <th>Ripper</th>\n",
              "      <th>Scarifier</th>\n",
              "      <th>Tip_Control</th>\n",
              "      <th>Tire_Size</th>\n",
              "      <th>Coupler</th>\n",
              "      <th>Coupler_System</th>\n",
              "      <th>Grouser_Tracks</th>\n",
              "      <th>Hydraulics_Flow</th>\n",
              "      <th>Track_Type</th>\n",
              "      <th>Undercarriage_Pad_Width</th>\n",
              "      <th>Stick_Length</th>\n",
              "      <th>Thumb</th>\n",
              "      <th>Pattern_Changer</th>\n",
              "      <th>Grouser_Type</th>\n",
              "      <th>Backhoe_Mounting</th>\n",
              "      <th>Blade_Type</th>\n",
              "      <th>Travel_Controls</th>\n",
              "      <th>Differential_Type</th>\n",
              "      <th>Steering_Controls</th>\n",
              "    </tr>\n",
              "  </thead>\n",
              "  <tbody>\n",
              "    <tr>\n",
              "      <th>0</th>\n",
              "      <td>1139246</td>\n",
              "      <td>66000</td>\n",
              "      <td>999089</td>\n",
              "      <td>3157</td>\n",
              "      <td>121</td>\n",
              "      <td>3</td>\n",
              "      <td>2004</td>\n",
              "      <td>68</td>\n",
              "      <td>Low</td>\n",
              "      <td>11/16/2006 0:00</td>\n",
              "      <td>521D</td>\n",
              "      <td>521</td>\n",
              "      <td>D</td>\n",
              "      <td>NaN</td>\n",
              "      <td>NaN</td>\n",
              "      <td>NaN</td>\n",
              "      <td>Wheel Loader - 110.0 to 120.0 Horsepower</td>\n",
              "      <td>Alabama</td>\n",
              "      <td>WL</td>\n",
              "      <td>Wheel Loader</td>\n",
              "      <td>NaN</td>\n",
              "      <td>EROPS w AC</td>\n",
              "      <td>None or Unspecified</td>\n",
              "      <td>NaN</td>\n",
              "      <td>None or Unspecified</td>\n",
              "      <td>NaN</td>\n",
              "      <td>NaN</td>\n",
              "      <td>NaN</td>\n",
              "      <td>NaN</td>\n",
              "      <td>NaN</td>\n",
              "      <td>NaN</td>\n",
              "      <td>NaN</td>\n",
              "      <td>2 Valve</td>\n",
              "      <td>NaN</td>\n",
              "      <td>NaN</td>\n",
              "      <td>NaN</td>\n",
              "      <td>NaN</td>\n",
              "      <td>None or Unspecified</td>\n",
              "      <td>None or Unspecified</td>\n",
              "      <td>NaN</td>\n",
              "      <td>NaN</td>\n",
              "      <td>NaN</td>\n",
              "      <td>NaN</td>\n",
              "      <td>NaN</td>\n",
              "      <td>NaN</td>\n",
              "      <td>NaN</td>\n",
              "      <td>NaN</td>\n",
              "      <td>NaN</td>\n",
              "      <td>NaN</td>\n",
              "      <td>NaN</td>\n",
              "      <td>NaN</td>\n",
              "      <td>Standard</td>\n",
              "      <td>Conventional</td>\n",
              "    </tr>\n",
              "    <tr>\n",
              "      <th>1</th>\n",
              "      <td>1139248</td>\n",
              "      <td>57000</td>\n",
              "      <td>117657</td>\n",
              "      <td>77</td>\n",
              "      <td>121</td>\n",
              "      <td>3</td>\n",
              "      <td>1996</td>\n",
              "      <td>4640</td>\n",
              "      <td>Low</td>\n",
              "      <td>3/26/2004 0:00</td>\n",
              "      <td>950FII</td>\n",
              "      <td>950</td>\n",
              "      <td>F</td>\n",
              "      <td>II</td>\n",
              "      <td>NaN</td>\n",
              "      <td>Medium</td>\n",
              "      <td>Wheel Loader - 150.0 to 175.0 Horsepower</td>\n",
              "      <td>North Carolina</td>\n",
              "      <td>WL</td>\n",
              "      <td>Wheel Loader</td>\n",
              "      <td>NaN</td>\n",
              "      <td>EROPS w AC</td>\n",
              "      <td>None or Unspecified</td>\n",
              "      <td>NaN</td>\n",
              "      <td>None or Unspecified</td>\n",
              "      <td>NaN</td>\n",
              "      <td>NaN</td>\n",
              "      <td>NaN</td>\n",
              "      <td>NaN</td>\n",
              "      <td>NaN</td>\n",
              "      <td>NaN</td>\n",
              "      <td>NaN</td>\n",
              "      <td>2 Valve</td>\n",
              "      <td>NaN</td>\n",
              "      <td>NaN</td>\n",
              "      <td>NaN</td>\n",
              "      <td>NaN</td>\n",
              "      <td>23.5</td>\n",
              "      <td>None or Unspecified</td>\n",
              "      <td>NaN</td>\n",
              "      <td>NaN</td>\n",
              "      <td>NaN</td>\n",
              "      <td>NaN</td>\n",
              "      <td>NaN</td>\n",
              "      <td>NaN</td>\n",
              "      <td>NaN</td>\n",
              "      <td>NaN</td>\n",
              "      <td>NaN</td>\n",
              "      <td>NaN</td>\n",
              "      <td>NaN</td>\n",
              "      <td>NaN</td>\n",
              "      <td>Standard</td>\n",
              "      <td>Conventional</td>\n",
              "    </tr>\n",
              "    <tr>\n",
              "      <th>2</th>\n",
              "      <td>1139249</td>\n",
              "      <td>10000</td>\n",
              "      <td>434808</td>\n",
              "      <td>7009</td>\n",
              "      <td>121</td>\n",
              "      <td>3</td>\n",
              "      <td>2001</td>\n",
              "      <td>2838</td>\n",
              "      <td>High</td>\n",
              "      <td>2/26/2004 0:00</td>\n",
              "      <td>226</td>\n",
              "      <td>226</td>\n",
              "      <td>NaN</td>\n",
              "      <td>NaN</td>\n",
              "      <td>NaN</td>\n",
              "      <td>NaN</td>\n",
              "      <td>Skid Steer Loader - 1351.0 to 1601.0 Lb Operat...</td>\n",
              "      <td>New York</td>\n",
              "      <td>SSL</td>\n",
              "      <td>Skid Steer Loaders</td>\n",
              "      <td>NaN</td>\n",
              "      <td>OROPS</td>\n",
              "      <td>None or Unspecified</td>\n",
              "      <td>NaN</td>\n",
              "      <td>NaN</td>\n",
              "      <td>NaN</td>\n",
              "      <td>NaN</td>\n",
              "      <td>NaN</td>\n",
              "      <td>NaN</td>\n",
              "      <td>NaN</td>\n",
              "      <td>NaN</td>\n",
              "      <td>NaN</td>\n",
              "      <td>Auxiliary</td>\n",
              "      <td>NaN</td>\n",
              "      <td>NaN</td>\n",
              "      <td>NaN</td>\n",
              "      <td>NaN</td>\n",
              "      <td>NaN</td>\n",
              "      <td>None or Unspecified</td>\n",
              "      <td>None or Unspecified</td>\n",
              "      <td>None or Unspecified</td>\n",
              "      <td>Standard</td>\n",
              "      <td>NaN</td>\n",
              "      <td>NaN</td>\n",
              "      <td>NaN</td>\n",
              "      <td>NaN</td>\n",
              "      <td>NaN</td>\n",
              "      <td>NaN</td>\n",
              "      <td>NaN</td>\n",
              "      <td>NaN</td>\n",
              "      <td>NaN</td>\n",
              "      <td>NaN</td>\n",
              "      <td>NaN</td>\n",
              "    </tr>\n",
              "    <tr>\n",
              "      <th>3</th>\n",
              "      <td>1139251</td>\n",
              "      <td>38500</td>\n",
              "      <td>1026470</td>\n",
              "      <td>332</td>\n",
              "      <td>121</td>\n",
              "      <td>3</td>\n",
              "      <td>2001</td>\n",
              "      <td>3486</td>\n",
              "      <td>High</td>\n",
              "      <td>5/19/2011 0:00</td>\n",
              "      <td>PC120-6E</td>\n",
              "      <td>PC120</td>\n",
              "      <td>NaN</td>\n",
              "      <td>-6E</td>\n",
              "      <td>NaN</td>\n",
              "      <td>Small</td>\n",
              "      <td>Hydraulic Excavator, Track - 12.0 to 14.0 Metr...</td>\n",
              "      <td>Texas</td>\n",
              "      <td>TEX</td>\n",
              "      <td>Track Excavators</td>\n",
              "      <td>NaN</td>\n",
              "      <td>EROPS w AC</td>\n",
              "      <td>NaN</td>\n",
              "      <td>NaN</td>\n",
              "      <td>NaN</td>\n",
              "      <td>NaN</td>\n",
              "      <td>NaN</td>\n",
              "      <td>NaN</td>\n",
              "      <td>NaN</td>\n",
              "      <td>NaN</td>\n",
              "      <td>NaN</td>\n",
              "      <td>NaN</td>\n",
              "      <td>2 Valve</td>\n",
              "      <td>NaN</td>\n",
              "      <td>NaN</td>\n",
              "      <td>NaN</td>\n",
              "      <td>NaN</td>\n",
              "      <td>NaN</td>\n",
              "      <td>None or Unspecified</td>\n",
              "      <td>NaN</td>\n",
              "      <td>NaN</td>\n",
              "      <td>NaN</td>\n",
              "      <td>NaN</td>\n",
              "      <td>NaN</td>\n",
              "      <td>NaN</td>\n",
              "      <td>NaN</td>\n",
              "      <td>NaN</td>\n",
              "      <td>NaN</td>\n",
              "      <td>NaN</td>\n",
              "      <td>NaN</td>\n",
              "      <td>NaN</td>\n",
              "      <td>NaN</td>\n",
              "      <td>NaN</td>\n",
              "    </tr>\n",
              "    <tr>\n",
              "      <th>4</th>\n",
              "      <td>1139253</td>\n",
              "      <td>11000</td>\n",
              "      <td>1057373</td>\n",
              "      <td>17311</td>\n",
              "      <td>121</td>\n",
              "      <td>3</td>\n",
              "      <td>2007</td>\n",
              "      <td>722</td>\n",
              "      <td>Medium</td>\n",
              "      <td>7/23/2009 0:00</td>\n",
              "      <td>S175</td>\n",
              "      <td>S175</td>\n",
              "      <td>NaN</td>\n",
              "      <td>NaN</td>\n",
              "      <td>NaN</td>\n",
              "      <td>NaN</td>\n",
              "      <td>Skid Steer Loader - 1601.0 to 1751.0 Lb Operat...</td>\n",
              "      <td>New York</td>\n",
              "      <td>SSL</td>\n",
              "      <td>Skid Steer Loaders</td>\n",
              "      <td>NaN</td>\n",
              "      <td>EROPS</td>\n",
              "      <td>None or Unspecified</td>\n",
              "      <td>NaN</td>\n",
              "      <td>NaN</td>\n",
              "      <td>NaN</td>\n",
              "      <td>NaN</td>\n",
              "      <td>NaN</td>\n",
              "      <td>NaN</td>\n",
              "      <td>NaN</td>\n",
              "      <td>NaN</td>\n",
              "      <td>NaN</td>\n",
              "      <td>Auxiliary</td>\n",
              "      <td>NaN</td>\n",
              "      <td>NaN</td>\n",
              "      <td>NaN</td>\n",
              "      <td>NaN</td>\n",
              "      <td>NaN</td>\n",
              "      <td>None or Unspecified</td>\n",
              "      <td>None or Unspecified</td>\n",
              "      <td>None or Unspecified</td>\n",
              "      <td>Standard</td>\n",
              "      <td>NaN</td>\n",
              "      <td>NaN</td>\n",
              "      <td>NaN</td>\n",
              "      <td>NaN</td>\n",
              "      <td>NaN</td>\n",
              "      <td>NaN</td>\n",
              "      <td>NaN</td>\n",
              "      <td>NaN</td>\n",
              "      <td>NaN</td>\n",
              "      <td>NaN</td>\n",
              "      <td>NaN</td>\n",
              "    </tr>\n",
              "  </tbody>\n",
              "</table>\n",
              "</div>"
            ],
            "text/plain": [
              "   SalesID  SalePrice  ...  Differential_Type  Steering_Controls\n",
              "0  1139246      66000  ...           Standard       Conventional\n",
              "1  1139248      57000  ...           Standard       Conventional\n",
              "2  1139249      10000  ...                NaN                NaN\n",
              "3  1139251      38500  ...                NaN                NaN\n",
              "4  1139253      11000  ...                NaN                NaN\n",
              "\n",
              "[5 rows x 53 columns]"
            ]
          },
          "metadata": {
            "tags": []
          },
          "execution_count": 66
        }
      ]
    },
    {
      "cell_type": "code",
      "metadata": {
        "colab": {
          "base_uri": "https://localhost:8080/"
        },
        "id": "lEQWnL8ImvM9",
        "outputId": "f6aa6c7d-f0c9-4984-9841-39d004822ecc"
      },
      "source": [
        "df.info()"
      ],
      "execution_count": 67,
      "outputs": [
        {
          "output_type": "stream",
          "text": [
            "<class 'pandas.core.frame.DataFrame'>\n",
            "RangeIndex: 7101 entries, 0 to 7100\n",
            "Data columns (total 53 columns):\n",
            " #   Column                    Non-Null Count  Dtype \n",
            "---  ------                    --------------  ----- \n",
            " 0   SalesID                   7101 non-null   int64 \n",
            " 1   SalePrice                 7101 non-null   int64 \n",
            " 2   MachineID                 7101 non-null   int64 \n",
            " 3   ModelID                   7101 non-null   int64 \n",
            " 4   datasource                7101 non-null   int64 \n",
            " 5   auctioneerID              7101 non-null   int64 \n",
            " 6   YearMade                  7101 non-null   int64 \n",
            " 7   MachineHoursCurrentMeter  7101 non-null   int64 \n",
            " 8   UsageBand                 6200 non-null   object\n",
            " 9   saledate                  7101 non-null   object\n",
            " 10  fiModelDesc               7101 non-null   object\n",
            " 11  fiBaseModel               7101 non-null   object\n",
            " 12  fiSecondaryDesc           4621 non-null   object\n",
            " 13  fiModelSeries             975 non-null    object\n",
            " 14  fiModelDescriptor         1730 non-null   object\n",
            " 15  ProductSize               3292 non-null   object\n",
            " 16  fiProductClassDesc        7101 non-null   object\n",
            " 17  state                     7101 non-null   object\n",
            " 18  ProductGroup              7101 non-null   object\n",
            " 19  ProductGroupDesc          7101 non-null   object\n",
            " 20  Drive_System              1579 non-null   object\n",
            " 21  Enclosure                 7097 non-null   object\n",
            " 22  Forks                     3591 non-null   object\n",
            " 23  Pad_Type                  1188 non-null   object\n",
            " 24  Ride_Control              2375 non-null   object\n",
            " 25  Stick                     1188 non-null   object\n",
            " 26  Transmission              2789 non-null   object\n",
            " 27  Turbocharged              1188 non-null   object\n",
            " 28  Blade_Extension           389 non-null    object\n",
            " 29  Blade_Width               389 non-null    object\n",
            " 30  Enclosure_Type            389 non-null    object\n",
            " 31  Engine_Horsepower         389 non-null    object\n",
            " 32  Hydraulics                5891 non-null   object\n",
            " 33  Pushblock                 389 non-null    object\n",
            " 34  Ripper                    1596 non-null   object\n",
            " 35  Scarifier                 389 non-null    object\n",
            " 36  Tip_Control               388 non-null    object\n",
            " 37  Tire_Size                 1573 non-null   object\n",
            " 38  Coupler                   4265 non-null   object\n",
            " 39  Coupler_System            1217 non-null   object\n",
            " 40  Grouser_Tracks            1213 non-null   object\n",
            " 41  Hydraulics_Flow           1213 non-null   object\n",
            " 42  Track_Type                1843 non-null   object\n",
            " 43  Undercarriage_Pad_Width   1855 non-null   object\n",
            " 44  Stick_Length              1843 non-null   object\n",
            " 45  Thumb                     1845 non-null   object\n",
            " 46  Pattern_Changer           1843 non-null   object\n",
            " 47  Grouser_Type              1843 non-null   object\n",
            " 48  Backhoe_Mounting          1204 non-null   object\n",
            " 49  Blade_Type                1216 non-null   object\n",
            " 50  Travel_Controls           1215 non-null   object\n",
            " 51  Differential_Type         1184 non-null   object\n",
            " 52  Steering_Controls         1184 non-null   object\n",
            "dtypes: int64(8), object(45)\n",
            "memory usage: 2.9+ MB\n"
          ],
          "name": "stdout"
        }
      ]
    },
    {
      "cell_type": "code",
      "metadata": {
        "id": "NE9sYin8qdSk"
      },
      "source": [
        "# since our saledate is of type object. so we load up the data in the right type.\r\n",
        "df = pd.read_csv('/content/TrainAndValid.csv', low_memory=False, parse_dates=['saledate', 'YearMade'])"
      ],
      "execution_count": 68,
      "outputs": []
    },
    {
      "cell_type": "code",
      "metadata": {
        "colab": {
          "base_uri": "https://localhost:8080/"
        },
        "id": "cvbzlQLHmvNA",
        "outputId": "cfae3b66-0f17-403f-ce8e-be10082280e5"
      },
      "source": [
        "df.info()"
      ],
      "execution_count": 69,
      "outputs": [
        {
          "output_type": "stream",
          "text": [
            "<class 'pandas.core.frame.DataFrame'>\n",
            "RangeIndex: 7101 entries, 0 to 7100\n",
            "Data columns (total 53 columns):\n",
            " #   Column                    Non-Null Count  Dtype         \n",
            "---  ------                    --------------  -----         \n",
            " 0   SalesID                   7101 non-null   int64         \n",
            " 1   SalePrice                 7101 non-null   int64         \n",
            " 2   MachineID                 7101 non-null   int64         \n",
            " 3   ModelID                   7101 non-null   int64         \n",
            " 4   datasource                7101 non-null   int64         \n",
            " 5   auctioneerID              7101 non-null   int64         \n",
            " 6   YearMade                  7101 non-null   object        \n",
            " 7   MachineHoursCurrentMeter  7101 non-null   int64         \n",
            " 8   UsageBand                 6200 non-null   object        \n",
            " 9   saledate                  7101 non-null   datetime64[ns]\n",
            " 10  fiModelDesc               7101 non-null   object        \n",
            " 11  fiBaseModel               7101 non-null   object        \n",
            " 12  fiSecondaryDesc           4621 non-null   object        \n",
            " 13  fiModelSeries             975 non-null    object        \n",
            " 14  fiModelDescriptor         1730 non-null   object        \n",
            " 15  ProductSize               3292 non-null   object        \n",
            " 16  fiProductClassDesc        7101 non-null   object        \n",
            " 17  state                     7101 non-null   object        \n",
            " 18  ProductGroup              7101 non-null   object        \n",
            " 19  ProductGroupDesc          7101 non-null   object        \n",
            " 20  Drive_System              1579 non-null   object        \n",
            " 21  Enclosure                 7097 non-null   object        \n",
            " 22  Forks                     3591 non-null   object        \n",
            " 23  Pad_Type                  1188 non-null   object        \n",
            " 24  Ride_Control              2375 non-null   object        \n",
            " 25  Stick                     1188 non-null   object        \n",
            " 26  Transmission              2789 non-null   object        \n",
            " 27  Turbocharged              1188 non-null   object        \n",
            " 28  Blade_Extension           389 non-null    object        \n",
            " 29  Blade_Width               389 non-null    object        \n",
            " 30  Enclosure_Type            389 non-null    object        \n",
            " 31  Engine_Horsepower         389 non-null    object        \n",
            " 32  Hydraulics                5891 non-null   object        \n",
            " 33  Pushblock                 389 non-null    object        \n",
            " 34  Ripper                    1596 non-null   object        \n",
            " 35  Scarifier                 389 non-null    object        \n",
            " 36  Tip_Control               388 non-null    object        \n",
            " 37  Tire_Size                 1573 non-null   object        \n",
            " 38  Coupler                   4265 non-null   object        \n",
            " 39  Coupler_System            1217 non-null   object        \n",
            " 40  Grouser_Tracks            1213 non-null   object        \n",
            " 41  Hydraulics_Flow           1213 non-null   object        \n",
            " 42  Track_Type                1843 non-null   object        \n",
            " 43  Undercarriage_Pad_Width   1855 non-null   object        \n",
            " 44  Stick_Length              1843 non-null   object        \n",
            " 45  Thumb                     1845 non-null   object        \n",
            " 46  Pattern_Changer           1843 non-null   object        \n",
            " 47  Grouser_Type              1843 non-null   object        \n",
            " 48  Backhoe_Mounting          1204 non-null   object        \n",
            " 49  Blade_Type                1216 non-null   object        \n",
            " 50  Travel_Controls           1215 non-null   object        \n",
            " 51  Differential_Type         1184 non-null   object        \n",
            " 52  Steering_Controls         1184 non-null   object        \n",
            "dtypes: datetime64[ns](1), int64(7), object(45)\n",
            "memory usage: 2.9+ MB\n"
          ],
          "name": "stdout"
        }
      ]
    },
    {
      "cell_type": "code",
      "metadata": {
        "colab": {
          "base_uri": "https://localhost:8080/",
          "height": 1000
        },
        "id": "guOHRoAKmvNC",
        "outputId": "26db8aea-ad1d-4d53-eb8a-53e1affcb216"
      },
      "source": [
        "# now we have right format of our saledata data type. now perform some data visualisation.\n",
        "df.head().T"
      ],
      "execution_count": 70,
      "outputs": [
        {
          "output_type": "execute_result",
          "data": {
            "text/html": [
              "<div>\n",
              "<style scoped>\n",
              "    .dataframe tbody tr th:only-of-type {\n",
              "        vertical-align: middle;\n",
              "    }\n",
              "\n",
              "    .dataframe tbody tr th {\n",
              "        vertical-align: top;\n",
              "    }\n",
              "\n",
              "    .dataframe thead th {\n",
              "        text-align: right;\n",
              "    }\n",
              "</style>\n",
              "<table border=\"1\" class=\"dataframe\">\n",
              "  <thead>\n",
              "    <tr style=\"text-align: right;\">\n",
              "      <th></th>\n",
              "      <th>0</th>\n",
              "      <th>1</th>\n",
              "      <th>2</th>\n",
              "      <th>3</th>\n",
              "      <th>4</th>\n",
              "    </tr>\n",
              "  </thead>\n",
              "  <tbody>\n",
              "    <tr>\n",
              "      <th>SalesID</th>\n",
              "      <td>1139246</td>\n",
              "      <td>1139248</td>\n",
              "      <td>1139249</td>\n",
              "      <td>1139251</td>\n",
              "      <td>1139253</td>\n",
              "    </tr>\n",
              "    <tr>\n",
              "      <th>SalePrice</th>\n",
              "      <td>66000</td>\n",
              "      <td>57000</td>\n",
              "      <td>10000</td>\n",
              "      <td>38500</td>\n",
              "      <td>11000</td>\n",
              "    </tr>\n",
              "    <tr>\n",
              "      <th>MachineID</th>\n",
              "      <td>999089</td>\n",
              "      <td>117657</td>\n",
              "      <td>434808</td>\n",
              "      <td>1026470</td>\n",
              "      <td>1057373</td>\n",
              "    </tr>\n",
              "    <tr>\n",
              "      <th>ModelID</th>\n",
              "      <td>3157</td>\n",
              "      <td>77</td>\n",
              "      <td>7009</td>\n",
              "      <td>332</td>\n",
              "      <td>17311</td>\n",
              "    </tr>\n",
              "    <tr>\n",
              "      <th>datasource</th>\n",
              "      <td>121</td>\n",
              "      <td>121</td>\n",
              "      <td>121</td>\n",
              "      <td>121</td>\n",
              "      <td>121</td>\n",
              "    </tr>\n",
              "    <tr>\n",
              "      <th>auctioneerID</th>\n",
              "      <td>3</td>\n",
              "      <td>3</td>\n",
              "      <td>3</td>\n",
              "      <td>3</td>\n",
              "      <td>3</td>\n",
              "    </tr>\n",
              "    <tr>\n",
              "      <th>YearMade</th>\n",
              "      <td>2004</td>\n",
              "      <td>1996</td>\n",
              "      <td>2001</td>\n",
              "      <td>2001</td>\n",
              "      <td>2007</td>\n",
              "    </tr>\n",
              "    <tr>\n",
              "      <th>MachineHoursCurrentMeter</th>\n",
              "      <td>68</td>\n",
              "      <td>4640</td>\n",
              "      <td>2838</td>\n",
              "      <td>3486</td>\n",
              "      <td>722</td>\n",
              "    </tr>\n",
              "    <tr>\n",
              "      <th>UsageBand</th>\n",
              "      <td>Low</td>\n",
              "      <td>Low</td>\n",
              "      <td>High</td>\n",
              "      <td>High</td>\n",
              "      <td>Medium</td>\n",
              "    </tr>\n",
              "    <tr>\n",
              "      <th>saledate</th>\n",
              "      <td>2006-11-16 00:00:00</td>\n",
              "      <td>2004-03-26 00:00:00</td>\n",
              "      <td>2004-02-26 00:00:00</td>\n",
              "      <td>2011-05-19 00:00:00</td>\n",
              "      <td>2009-07-23 00:00:00</td>\n",
              "    </tr>\n",
              "    <tr>\n",
              "      <th>fiModelDesc</th>\n",
              "      <td>521D</td>\n",
              "      <td>950FII</td>\n",
              "      <td>226</td>\n",
              "      <td>PC120-6E</td>\n",
              "      <td>S175</td>\n",
              "    </tr>\n",
              "    <tr>\n",
              "      <th>fiBaseModel</th>\n",
              "      <td>521</td>\n",
              "      <td>950</td>\n",
              "      <td>226</td>\n",
              "      <td>PC120</td>\n",
              "      <td>S175</td>\n",
              "    </tr>\n",
              "    <tr>\n",
              "      <th>fiSecondaryDesc</th>\n",
              "      <td>D</td>\n",
              "      <td>F</td>\n",
              "      <td>NaN</td>\n",
              "      <td>NaN</td>\n",
              "      <td>NaN</td>\n",
              "    </tr>\n",
              "    <tr>\n",
              "      <th>fiModelSeries</th>\n",
              "      <td>NaN</td>\n",
              "      <td>II</td>\n",
              "      <td>NaN</td>\n",
              "      <td>-6E</td>\n",
              "      <td>NaN</td>\n",
              "    </tr>\n",
              "    <tr>\n",
              "      <th>fiModelDescriptor</th>\n",
              "      <td>NaN</td>\n",
              "      <td>NaN</td>\n",
              "      <td>NaN</td>\n",
              "      <td>NaN</td>\n",
              "      <td>NaN</td>\n",
              "    </tr>\n",
              "    <tr>\n",
              "      <th>ProductSize</th>\n",
              "      <td>NaN</td>\n",
              "      <td>Medium</td>\n",
              "      <td>NaN</td>\n",
              "      <td>Small</td>\n",
              "      <td>NaN</td>\n",
              "    </tr>\n",
              "    <tr>\n",
              "      <th>fiProductClassDesc</th>\n",
              "      <td>Wheel Loader - 110.0 to 120.0 Horsepower</td>\n",
              "      <td>Wheel Loader - 150.0 to 175.0 Horsepower</td>\n",
              "      <td>Skid Steer Loader - 1351.0 to 1601.0 Lb Operat...</td>\n",
              "      <td>Hydraulic Excavator, Track - 12.0 to 14.0 Metr...</td>\n",
              "      <td>Skid Steer Loader - 1601.0 to 1751.0 Lb Operat...</td>\n",
              "    </tr>\n",
              "    <tr>\n",
              "      <th>state</th>\n",
              "      <td>Alabama</td>\n",
              "      <td>North Carolina</td>\n",
              "      <td>New York</td>\n",
              "      <td>Texas</td>\n",
              "      <td>New York</td>\n",
              "    </tr>\n",
              "    <tr>\n",
              "      <th>ProductGroup</th>\n",
              "      <td>WL</td>\n",
              "      <td>WL</td>\n",
              "      <td>SSL</td>\n",
              "      <td>TEX</td>\n",
              "      <td>SSL</td>\n",
              "    </tr>\n",
              "    <tr>\n",
              "      <th>ProductGroupDesc</th>\n",
              "      <td>Wheel Loader</td>\n",
              "      <td>Wheel Loader</td>\n",
              "      <td>Skid Steer Loaders</td>\n",
              "      <td>Track Excavators</td>\n",
              "      <td>Skid Steer Loaders</td>\n",
              "    </tr>\n",
              "    <tr>\n",
              "      <th>Drive_System</th>\n",
              "      <td>NaN</td>\n",
              "      <td>NaN</td>\n",
              "      <td>NaN</td>\n",
              "      <td>NaN</td>\n",
              "      <td>NaN</td>\n",
              "    </tr>\n",
              "    <tr>\n",
              "      <th>Enclosure</th>\n",
              "      <td>EROPS w AC</td>\n",
              "      <td>EROPS w AC</td>\n",
              "      <td>OROPS</td>\n",
              "      <td>EROPS w AC</td>\n",
              "      <td>EROPS</td>\n",
              "    </tr>\n",
              "    <tr>\n",
              "      <th>Forks</th>\n",
              "      <td>None or Unspecified</td>\n",
              "      <td>None or Unspecified</td>\n",
              "      <td>None or Unspecified</td>\n",
              "      <td>NaN</td>\n",
              "      <td>None or Unspecified</td>\n",
              "    </tr>\n",
              "    <tr>\n",
              "      <th>Pad_Type</th>\n",
              "      <td>NaN</td>\n",
              "      <td>NaN</td>\n",
              "      <td>NaN</td>\n",
              "      <td>NaN</td>\n",
              "      <td>NaN</td>\n",
              "    </tr>\n",
              "    <tr>\n",
              "      <th>Ride_Control</th>\n",
              "      <td>None or Unspecified</td>\n",
              "      <td>None or Unspecified</td>\n",
              "      <td>NaN</td>\n",
              "      <td>NaN</td>\n",
              "      <td>NaN</td>\n",
              "    </tr>\n",
              "    <tr>\n",
              "      <th>Stick</th>\n",
              "      <td>NaN</td>\n",
              "      <td>NaN</td>\n",
              "      <td>NaN</td>\n",
              "      <td>NaN</td>\n",
              "      <td>NaN</td>\n",
              "    </tr>\n",
              "    <tr>\n",
              "      <th>Transmission</th>\n",
              "      <td>NaN</td>\n",
              "      <td>NaN</td>\n",
              "      <td>NaN</td>\n",
              "      <td>NaN</td>\n",
              "      <td>NaN</td>\n",
              "    </tr>\n",
              "    <tr>\n",
              "      <th>Turbocharged</th>\n",
              "      <td>NaN</td>\n",
              "      <td>NaN</td>\n",
              "      <td>NaN</td>\n",
              "      <td>NaN</td>\n",
              "      <td>NaN</td>\n",
              "    </tr>\n",
              "    <tr>\n",
              "      <th>Blade_Extension</th>\n",
              "      <td>NaN</td>\n",
              "      <td>NaN</td>\n",
              "      <td>NaN</td>\n",
              "      <td>NaN</td>\n",
              "      <td>NaN</td>\n",
              "    </tr>\n",
              "    <tr>\n",
              "      <th>Blade_Width</th>\n",
              "      <td>NaN</td>\n",
              "      <td>NaN</td>\n",
              "      <td>NaN</td>\n",
              "      <td>NaN</td>\n",
              "      <td>NaN</td>\n",
              "    </tr>\n",
              "    <tr>\n",
              "      <th>Enclosure_Type</th>\n",
              "      <td>NaN</td>\n",
              "      <td>NaN</td>\n",
              "      <td>NaN</td>\n",
              "      <td>NaN</td>\n",
              "      <td>NaN</td>\n",
              "    </tr>\n",
              "    <tr>\n",
              "      <th>Engine_Horsepower</th>\n",
              "      <td>NaN</td>\n",
              "      <td>NaN</td>\n",
              "      <td>NaN</td>\n",
              "      <td>NaN</td>\n",
              "      <td>NaN</td>\n",
              "    </tr>\n",
              "    <tr>\n",
              "      <th>Hydraulics</th>\n",
              "      <td>2 Valve</td>\n",
              "      <td>2 Valve</td>\n",
              "      <td>Auxiliary</td>\n",
              "      <td>2 Valve</td>\n",
              "      <td>Auxiliary</td>\n",
              "    </tr>\n",
              "    <tr>\n",
              "      <th>Pushblock</th>\n",
              "      <td>NaN</td>\n",
              "      <td>NaN</td>\n",
              "      <td>NaN</td>\n",
              "      <td>NaN</td>\n",
              "      <td>NaN</td>\n",
              "    </tr>\n",
              "    <tr>\n",
              "      <th>Ripper</th>\n",
              "      <td>NaN</td>\n",
              "      <td>NaN</td>\n",
              "      <td>NaN</td>\n",
              "      <td>NaN</td>\n",
              "      <td>NaN</td>\n",
              "    </tr>\n",
              "    <tr>\n",
              "      <th>Scarifier</th>\n",
              "      <td>NaN</td>\n",
              "      <td>NaN</td>\n",
              "      <td>NaN</td>\n",
              "      <td>NaN</td>\n",
              "      <td>NaN</td>\n",
              "    </tr>\n",
              "    <tr>\n",
              "      <th>Tip_Control</th>\n",
              "      <td>NaN</td>\n",
              "      <td>NaN</td>\n",
              "      <td>NaN</td>\n",
              "      <td>NaN</td>\n",
              "      <td>NaN</td>\n",
              "    </tr>\n",
              "    <tr>\n",
              "      <th>Tire_Size</th>\n",
              "      <td>None or Unspecified</td>\n",
              "      <td>23.5</td>\n",
              "      <td>NaN</td>\n",
              "      <td>NaN</td>\n",
              "      <td>NaN</td>\n",
              "    </tr>\n",
              "    <tr>\n",
              "      <th>Coupler</th>\n",
              "      <td>None or Unspecified</td>\n",
              "      <td>None or Unspecified</td>\n",
              "      <td>None or Unspecified</td>\n",
              "      <td>None or Unspecified</td>\n",
              "      <td>None or Unspecified</td>\n",
              "    </tr>\n",
              "    <tr>\n",
              "      <th>Coupler_System</th>\n",
              "      <td>NaN</td>\n",
              "      <td>NaN</td>\n",
              "      <td>None or Unspecified</td>\n",
              "      <td>NaN</td>\n",
              "      <td>None or Unspecified</td>\n",
              "    </tr>\n",
              "    <tr>\n",
              "      <th>Grouser_Tracks</th>\n",
              "      <td>NaN</td>\n",
              "      <td>NaN</td>\n",
              "      <td>None or Unspecified</td>\n",
              "      <td>NaN</td>\n",
              "      <td>None or Unspecified</td>\n",
              "    </tr>\n",
              "    <tr>\n",
              "      <th>Hydraulics_Flow</th>\n",
              "      <td>NaN</td>\n",
              "      <td>NaN</td>\n",
              "      <td>Standard</td>\n",
              "      <td>NaN</td>\n",
              "      <td>Standard</td>\n",
              "    </tr>\n",
              "    <tr>\n",
              "      <th>Track_Type</th>\n",
              "      <td>NaN</td>\n",
              "      <td>NaN</td>\n",
              "      <td>NaN</td>\n",
              "      <td>NaN</td>\n",
              "      <td>NaN</td>\n",
              "    </tr>\n",
              "    <tr>\n",
              "      <th>Undercarriage_Pad_Width</th>\n",
              "      <td>NaN</td>\n",
              "      <td>NaN</td>\n",
              "      <td>NaN</td>\n",
              "      <td>NaN</td>\n",
              "      <td>NaN</td>\n",
              "    </tr>\n",
              "    <tr>\n",
              "      <th>Stick_Length</th>\n",
              "      <td>NaN</td>\n",
              "      <td>NaN</td>\n",
              "      <td>NaN</td>\n",
              "      <td>NaN</td>\n",
              "      <td>NaN</td>\n",
              "    </tr>\n",
              "    <tr>\n",
              "      <th>Thumb</th>\n",
              "      <td>NaN</td>\n",
              "      <td>NaN</td>\n",
              "      <td>NaN</td>\n",
              "      <td>NaN</td>\n",
              "      <td>NaN</td>\n",
              "    </tr>\n",
              "    <tr>\n",
              "      <th>Pattern_Changer</th>\n",
              "      <td>NaN</td>\n",
              "      <td>NaN</td>\n",
              "      <td>NaN</td>\n",
              "      <td>NaN</td>\n",
              "      <td>NaN</td>\n",
              "    </tr>\n",
              "    <tr>\n",
              "      <th>Grouser_Type</th>\n",
              "      <td>NaN</td>\n",
              "      <td>NaN</td>\n",
              "      <td>NaN</td>\n",
              "      <td>NaN</td>\n",
              "      <td>NaN</td>\n",
              "    </tr>\n",
              "    <tr>\n",
              "      <th>Backhoe_Mounting</th>\n",
              "      <td>NaN</td>\n",
              "      <td>NaN</td>\n",
              "      <td>NaN</td>\n",
              "      <td>NaN</td>\n",
              "      <td>NaN</td>\n",
              "    </tr>\n",
              "    <tr>\n",
              "      <th>Blade_Type</th>\n",
              "      <td>NaN</td>\n",
              "      <td>NaN</td>\n",
              "      <td>NaN</td>\n",
              "      <td>NaN</td>\n",
              "      <td>NaN</td>\n",
              "    </tr>\n",
              "    <tr>\n",
              "      <th>Travel_Controls</th>\n",
              "      <td>NaN</td>\n",
              "      <td>NaN</td>\n",
              "      <td>NaN</td>\n",
              "      <td>NaN</td>\n",
              "      <td>NaN</td>\n",
              "    </tr>\n",
              "    <tr>\n",
              "      <th>Differential_Type</th>\n",
              "      <td>Standard</td>\n",
              "      <td>Standard</td>\n",
              "      <td>NaN</td>\n",
              "      <td>NaN</td>\n",
              "      <td>NaN</td>\n",
              "    </tr>\n",
              "    <tr>\n",
              "      <th>Steering_Controls</th>\n",
              "      <td>Conventional</td>\n",
              "      <td>Conventional</td>\n",
              "      <td>NaN</td>\n",
              "      <td>NaN</td>\n",
              "      <td>NaN</td>\n",
              "    </tr>\n",
              "  </tbody>\n",
              "</table>\n",
              "</div>"
            ],
            "text/plain": [
              "                                                                 0  ...                                                  4\n",
              "SalesID                                                    1139246  ...                                            1139253\n",
              "SalePrice                                                    66000  ...                                              11000\n",
              "MachineID                                                   999089  ...                                            1057373\n",
              "ModelID                                                       3157  ...                                              17311\n",
              "datasource                                                     121  ...                                                121\n",
              "auctioneerID                                                     3  ...                                                  3\n",
              "YearMade                                                      2004  ...                                               2007\n",
              "MachineHoursCurrentMeter                                        68  ...                                                722\n",
              "UsageBand                                                      Low  ...                                             Medium\n",
              "saledate                                       2006-11-16 00:00:00  ...                                2009-07-23 00:00:00\n",
              "fiModelDesc                                                   521D  ...                                               S175\n",
              "fiBaseModel                                                    521  ...                                               S175\n",
              "fiSecondaryDesc                                                  D  ...                                                NaN\n",
              "fiModelSeries                                                  NaN  ...                                                NaN\n",
              "fiModelDescriptor                                              NaN  ...                                                NaN\n",
              "ProductSize                                                    NaN  ...                                                NaN\n",
              "fiProductClassDesc        Wheel Loader - 110.0 to 120.0 Horsepower  ...  Skid Steer Loader - 1601.0 to 1751.0 Lb Operat...\n",
              "state                                                      Alabama  ...                                           New York\n",
              "ProductGroup                                                    WL  ...                                                SSL\n",
              "ProductGroupDesc                                      Wheel Loader  ...                                 Skid Steer Loaders\n",
              "Drive_System                                                   NaN  ...                                                NaN\n",
              "Enclosure                                               EROPS w AC  ...                                              EROPS\n",
              "Forks                                          None or Unspecified  ...                                None or Unspecified\n",
              "Pad_Type                                                       NaN  ...                                                NaN\n",
              "Ride_Control                                   None or Unspecified  ...                                                NaN\n",
              "Stick                                                          NaN  ...                                                NaN\n",
              "Transmission                                                   NaN  ...                                                NaN\n",
              "Turbocharged                                                   NaN  ...                                                NaN\n",
              "Blade_Extension                                                NaN  ...                                                NaN\n",
              "Blade_Width                                                    NaN  ...                                                NaN\n",
              "Enclosure_Type                                                 NaN  ...                                                NaN\n",
              "Engine_Horsepower                                              NaN  ...                                                NaN\n",
              "Hydraulics                                                 2 Valve  ...                                          Auxiliary\n",
              "Pushblock                                                      NaN  ...                                                NaN\n",
              "Ripper                                                         NaN  ...                                                NaN\n",
              "Scarifier                                                      NaN  ...                                                NaN\n",
              "Tip_Control                                                    NaN  ...                                                NaN\n",
              "Tire_Size                                      None or Unspecified  ...                                                NaN\n",
              "Coupler                                        None or Unspecified  ...                                None or Unspecified\n",
              "Coupler_System                                                 NaN  ...                                None or Unspecified\n",
              "Grouser_Tracks                                                 NaN  ...                                None or Unspecified\n",
              "Hydraulics_Flow                                                NaN  ...                                           Standard\n",
              "Track_Type                                                     NaN  ...                                                NaN\n",
              "Undercarriage_Pad_Width                                        NaN  ...                                                NaN\n",
              "Stick_Length                                                   NaN  ...                                                NaN\n",
              "Thumb                                                          NaN  ...                                                NaN\n",
              "Pattern_Changer                                                NaN  ...                                                NaN\n",
              "Grouser_Type                                                   NaN  ...                                                NaN\n",
              "Backhoe_Mounting                                               NaN  ...                                                NaN\n",
              "Blade_Type                                                     NaN  ...                                                NaN\n",
              "Travel_Controls                                                NaN  ...                                                NaN\n",
              "Differential_Type                                         Standard  ...                                                NaN\n",
              "Steering_Controls                                     Conventional  ...                                                NaN\n",
              "\n",
              "[53 rows x 5 columns]"
            ]
          },
          "metadata": {
            "tags": []
          },
          "execution_count": 70
        }
      ]
    },
    {
      "cell_type": "markdown",
      "metadata": {
        "id": "Ki9-jkrvmvNE"
      },
      "source": [
        "Lets first find out the relation between the sale price and the year of manufacture."
      ]
    },
    {
      "cell_type": "code",
      "metadata": {
        "colab": {
          "base_uri": "https://localhost:8080/",
          "height": 295
        },
        "id": "h80TP2kEmvNF",
        "outputId": "86931ebb-6a5e-4ea8-f7a7-c252256ce190"
      },
      "source": [
        "plt.bar(df['saledate'][:500], df['SalePrice'][:500])\n",
        "plt.xlabel('Year')\n",
        "plt.ylabel('Price');\n",
        "plt.title('Relation between the Price and Sale Date');"
      ],
      "execution_count": 71,
      "outputs": [
        {
          "output_type": "display_data",
          "data": {
            "image/png": "[encoded data removed]",
            "text/plain": [
              "<Figure size 432x288 with 1 Axes>"
            ]
          },
          "metadata": {
            "tags": [],
            "needs_background": "light"
          }
        }
      ]
    },
    {
      "cell_type": "markdown",
      "metadata": {
        "id": "BedfSZHfmvNG"
      },
      "source": [
        "So, from this graph we conclude that the sale price of the bulldozers goes high between the year 2007-2008. It may be because of the high demand in the market or because of the new technique introduced in this year we cost higher to make the price of the bulldozers high.\n",
        "\n",
        "Now, Lets find out which year the production of the bulldozers increase. Is it is between the 2007-2008 or it is some other year? Lets find out."
      ]
    },
    {
      "cell_type": "code",
      "metadata": {
        "colab": {
          "base_uri": "https://localhost:8080/",
          "height": 501
        },
        "id": "OAjW8pXUmvNH",
        "outputId": "b15a8305-ece6-4379-c426-43f8e5f18fda"
      },
      "source": [
        "pd.DataFrame((df['YearMade'].value_counts()).sort_index()).plot(kind='bar', figsize=(20, 8))\n",
        "plt.xlabel('Year')\n",
        "plt.ylabel('Frequency');\n",
        "plt.title('Relation between Year Made and the Frequency it Produced');"
      ],
      "execution_count": 72,
      "outputs": [
        {
          "output_type": "display_data",
          "data": {
            "image/png": "[encoded data removed]",
            "text/plain": [
              "<Figure size 1440x576 with 1 Axes>"
            ]
          },
          "metadata": {
            "tags": [],
            "needs_background": "light"
          }
        }
      ]
    },
    {
      "cell_type": "markdown",
      "metadata": {
        "id": "QBO8pOWjmvNI"
      },
      "source": [
        "In the year 1000, the maximum production is produced which is around the 40,000. It may be due to starting era of the world-war I or it may due to some other factors. Lets check out by predicting more relation between the features and label.\n",
        "\n",
        "Lets find out in which state the production is developed maximum."
      ]
    },
    {
      "cell_type": "code",
      "metadata": {
        "colab": {
          "base_uri": "https://localhost:8080/",
          "height": 554
        },
        "id": "bB76y-QfmvNJ",
        "outputId": "2a87b3f6-db0e-468a-c65f-f600e642a7ad"
      },
      "source": [
        "pd.DataFrame(df['state'].value_counts()).plot(kind='bar', figsize=(20, 8))\n",
        "plt.xlabel('State')\n",
        "plt.ylabel('Frequency')\n",
        "plt.title('Graph of State and the Frequency of Bulldozer Produced');"
      ],
      "execution_count": 73,
      "outputs": [
        {
          "output_type": "display_data",
          "data": {
            "image/png": "[encoded data removed]",
            "text/plain": [
              "<Figure size 1440x576 with 1 Axes>"
            ]
          },
          "metadata": {
            "tags": [],
            "needs_background": "light"
          }
        }
      ]
    },
    {
      "cell_type": "markdown",
      "metadata": {
        "id": "W8SOYx4omvNL"
      },
      "source": [
        "Florida produced the maximum number of bulldozers. It is around the 68,000 number which is so huge amount from the year 1000 to 2000 year. Since, Florida is a 3rd large producer of raw-steel industry so, it is not such surprising to see that it produces such large amount of bulldozers.\n",
        "\n",
        "Now, Let's find out the relation between the product size and sale date to check out which size of product is sell in different year."
      ]
    },
    {
      "cell_type": "code",
      "metadata": {
        "colab": {
          "base_uri": "https://localhost:8080/",
          "height": 363
        },
        "id": "Y4XBkVbqmvNM",
        "outputId": "9482eee5-f958-49d4-80b2-7b1b5bd031eb"
      },
      "source": [
        "pd.DataFrame(df['ProductSize'].value_counts()).plot(kind='bar')\n",
        "plt.xlabel('Product Size')\n",
        "plt.ylabel('Frequency')\n",
        "plt.title('Graph between Product size and Freqency of bulldozer produced');"
      ],
      "execution_count": 74,
      "outputs": [
        {
          "output_type": "display_data",
          "data": {
            "image/png": "[encoded data removed]",
            "text/plain": [
              "<Figure size 432x288 with 1 Axes>"
            ]
          },
          "metadata": {
            "tags": [],
            "needs_background": "light"
          }
        }
      ]
    },
    {
      "cell_type": "markdown",
      "metadata": {
        "id": "44uP_j_0mvNM"
      },
      "source": [
        "This graph shows that Medium size bulldozers was used and produced in a large scale. This show that the market demand and requirement is in the favour of Medium Size product.\n",
        "\n",
        "Lets create a correlation matrix between all the variables to see how different variables correlate with each other."
      ]
    },
    {
      "cell_type": "code",
      "metadata": {
        "colab": {
          "base_uri": "https://localhost:8080/",
          "height": 254
        },
        "id": "PvkpVeZImvNO",
        "outputId": "bc8732f0-5f45-482b-c6f9-35632c7c5201"
      },
      "source": [
        "df.corr()"
      ],
      "execution_count": 75,
      "outputs": [
        {
          "output_type": "execute_result",
          "data": {
            "text/html": [
              "<div>\n",
              "<style scoped>\n",
              "    .dataframe tbody tr th:only-of-type {\n",
              "        vertical-align: middle;\n",
              "    }\n",
              "\n",
              "    .dataframe tbody tr th {\n",
              "        vertical-align: top;\n",
              "    }\n",
              "\n",
              "    .dataframe thead th {\n",
              "        text-align: right;\n",
              "    }\n",
              "</style>\n",
              "<table border=\"1\" class=\"dataframe\">\n",
              "  <thead>\n",
              "    <tr style=\"text-align: right;\">\n",
              "      <th></th>\n",
              "      <th>SalesID</th>\n",
              "      <th>SalePrice</th>\n",
              "      <th>MachineID</th>\n",
              "      <th>ModelID</th>\n",
              "      <th>datasource</th>\n",
              "      <th>auctioneerID</th>\n",
              "      <th>MachineHoursCurrentMeter</th>\n",
              "    </tr>\n",
              "  </thead>\n",
              "  <tbody>\n",
              "    <tr>\n",
              "      <th>SalesID</th>\n",
              "      <td>1.000000</td>\n",
              "      <td>-0.006866</td>\n",
              "      <td>-0.016019</td>\n",
              "      <td>0.000596</td>\n",
              "      <td>NaN</td>\n",
              "      <td>NaN</td>\n",
              "      <td>0.012168</td>\n",
              "    </tr>\n",
              "    <tr>\n",
              "      <th>SalePrice</th>\n",
              "      <td>-0.006866</td>\n",
              "      <td>1.000000</td>\n",
              "      <td>-0.166051</td>\n",
              "      <td>-0.048913</td>\n",
              "      <td>NaN</td>\n",
              "      <td>NaN</td>\n",
              "      <td>0.226266</td>\n",
              "    </tr>\n",
              "    <tr>\n",
              "      <th>MachineID</th>\n",
              "      <td>-0.016019</td>\n",
              "      <td>-0.166051</td>\n",
              "      <td>1.000000</td>\n",
              "      <td>0.186153</td>\n",
              "      <td>NaN</td>\n",
              "      <td>NaN</td>\n",
              "      <td>0.023197</td>\n",
              "    </tr>\n",
              "    <tr>\n",
              "      <th>ModelID</th>\n",
              "      <td>0.000596</td>\n",
              "      <td>-0.048913</td>\n",
              "      <td>0.186153</td>\n",
              "      <td>1.000000</td>\n",
              "      <td>NaN</td>\n",
              "      <td>NaN</td>\n",
              "      <td>-0.160140</td>\n",
              "    </tr>\n",
              "    <tr>\n",
              "      <th>datasource</th>\n",
              "      <td>NaN</td>\n",
              "      <td>NaN</td>\n",
              "      <td>NaN</td>\n",
              "      <td>NaN</td>\n",
              "      <td>NaN</td>\n",
              "      <td>NaN</td>\n",
              "      <td>NaN</td>\n",
              "    </tr>\n",
              "    <tr>\n",
              "      <th>auctioneerID</th>\n",
              "      <td>NaN</td>\n",
              "      <td>NaN</td>\n",
              "      <td>NaN</td>\n",
              "      <td>NaN</td>\n",
              "      <td>NaN</td>\n",
              "      <td>NaN</td>\n",
              "      <td>NaN</td>\n",
              "    </tr>\n",
              "    <tr>\n",
              "      <th>MachineHoursCurrentMeter</th>\n",
              "      <td>0.012168</td>\n",
              "      <td>0.226266</td>\n",
              "      <td>0.023197</td>\n",
              "      <td>-0.160140</td>\n",
              "      <td>NaN</td>\n",
              "      <td>NaN</td>\n",
              "      <td>1.000000</td>\n",
              "    </tr>\n",
              "  </tbody>\n",
              "</table>\n",
              "</div>"
            ],
            "text/plain": [
              "                           SalesID  ...  MachineHoursCurrentMeter\n",
              "SalesID                   1.000000  ...                  0.012168\n",
              "SalePrice                -0.006866  ...                  0.226266\n",
              "MachineID                -0.016019  ...                  0.023197\n",
              "ModelID                   0.000596  ...                 -0.160140\n",
              "datasource                     NaN  ...                       NaN\n",
              "auctioneerID                   NaN  ...                       NaN\n",
              "MachineHoursCurrentMeter  0.012168  ...                  1.000000\n",
              "\n",
              "[7 rows x 7 columns]"
            ]
          },
          "metadata": {
            "tags": []
          },
          "execution_count": 75
        }
      ]
    },
    {
      "cell_type": "markdown",
      "metadata": {
        "id": "K9Wkr9dJmvNP"
      },
      "source": [
        "Lets make this table visual"
      ]
    },
    {
      "cell_type": "code",
      "metadata": {
        "colab": {
          "base_uri": "https://localhost:8080/",
          "height": 393
        },
        "id": "YU0TEjlWmvNQ",
        "outputId": "332662c8-aefa-4c77-a926-f4ccd1955ce4"
      },
      "source": [
        "sns.heatmap(df.corr(), annot=True, cmap='Blues', cbar=False);"
      ],
      "execution_count": 76,
      "outputs": [
        {
          "output_type": "display_data",
          "data": {
            "image/png": "[encoded data removed]",
            "text/plain": [
              "<Figure size 432x288 with 1 Axes>"
            ]
          },
          "metadata": {
            "tags": [],
            "needs_background": "light"
          }
        }
      ]
    },
    {
      "cell_type": "markdown",
      "metadata": {
        "id": "rXBdnQk7mvNR"
      },
      "source": [
        "Let's perform some feature enginering to understand more deeper into the datasets.\n",
        "\n",
        "<a id='feature-engineering'></a>\n",
        "### 3.2. Feature Engineering\n",
        "\n",
        "In this whole section, we manipulate the ```saledate``` feature and dig out the information from it. From that information we create a visual format to understand and explain it easily."
      ]
    },
    {
      "cell_type": "code",
      "metadata": {
        "id": "itaKgCvOmvNS"
      },
      "source": [
        "# First of all copy the data into another df to keep our original df safe.\n",
        "df_tmp = df.copy()"
      ],
      "execution_count": 77,
      "outputs": []
    },
    {
      "cell_type": "code",
      "metadata": {
        "scrolled": false,
        "colab": {
          "base_uri": "https://localhost:8080/",
          "height": 1000
        },
        "id": "wO-X_rJTmvNT",
        "outputId": "ca4710c9-9ca8-4ad5-d08d-6011694c496d"
      },
      "source": [
        "df_tmp.head().T"
      ],
      "execution_count": 78,
      "outputs": [
        {
          "output_type": "execute_result",
          "data": {
            "text/html": [
              "<div>\n",
              "<style scoped>\n",
              "    .dataframe tbody tr th:only-of-type {\n",
              "        vertical-align: middle;\n",
              "    }\n",
              "\n",
              "    .dataframe tbody tr th {\n",
              "        vertical-align: top;\n",
              "    }\n",
              "\n",
              "    .dataframe thead th {\n",
              "        text-align: right;\n",
              "    }\n",
              "</style>\n",
              "<table border=\"1\" class=\"dataframe\">\n",
              "  <thead>\n",
              "    <tr style=\"text-align: right;\">\n",
              "      <th></th>\n",
              "      <th>0</th>\n",
              "      <th>1</th>\n",
              "      <th>2</th>\n",
              "      <th>3</th>\n",
              "      <th>4</th>\n",
              "    </tr>\n",
              "  </thead>\n",
              "  <tbody>\n",
              "    <tr>\n",
              "      <th>SalesID</th>\n",
              "      <td>1139246</td>\n",
              "      <td>1139248</td>\n",
              "      <td>1139249</td>\n",
              "      <td>1139251</td>\n",
              "      <td>1139253</td>\n",
              "    </tr>\n",
              "    <tr>\n",
              "      <th>SalePrice</th>\n",
              "      <td>66000</td>\n",
              "      <td>57000</td>\n",
              "      <td>10000</td>\n",
              "      <td>38500</td>\n",
              "      <td>11000</td>\n",
              "    </tr>\n",
              "    <tr>\n",
              "      <th>MachineID</th>\n",
              "      <td>999089</td>\n",
              "      <td>117657</td>\n",
              "      <td>434808</td>\n",
              "      <td>1026470</td>\n",
              "      <td>1057373</td>\n",
              "    </tr>\n",
              "    <tr>\n",
              "      <th>ModelID</th>\n",
              "      <td>3157</td>\n",
              "      <td>77</td>\n",
              "      <td>7009</td>\n",
              "      <td>332</td>\n",
              "      <td>17311</td>\n",
              "    </tr>\n",
              "    <tr>\n",
              "      <th>datasource</th>\n",
              "      <td>121</td>\n",
              "      <td>121</td>\n",
              "      <td>121</td>\n",
              "      <td>121</td>\n",
              "      <td>121</td>\n",
              "    </tr>\n",
              "    <tr>\n",
              "      <th>auctioneerID</th>\n",
              "      <td>3</td>\n",
              "      <td>3</td>\n",
              "      <td>3</td>\n",
              "      <td>3</td>\n",
              "      <td>3</td>\n",
              "    </tr>\n",
              "    <tr>\n",
              "      <th>YearMade</th>\n",
              "      <td>2004</td>\n",
              "      <td>1996</td>\n",
              "      <td>2001</td>\n",
              "      <td>2001</td>\n",
              "      <td>2007</td>\n",
              "    </tr>\n",
              "    <tr>\n",
              "      <th>MachineHoursCurrentMeter</th>\n",
              "      <td>68</td>\n",
              "      <td>4640</td>\n",
              "      <td>2838</td>\n",
              "      <td>3486</td>\n",
              "      <td>722</td>\n",
              "    </tr>\n",
              "    <tr>\n",
              "      <th>UsageBand</th>\n",
              "      <td>Low</td>\n",
              "      <td>Low</td>\n",
              "      <td>High</td>\n",
              "      <td>High</td>\n",
              "      <td>Medium</td>\n",
              "    </tr>\n",
              "    <tr>\n",
              "      <th>saledate</th>\n",
              "      <td>2006-11-16 00:00:00</td>\n",
              "      <td>2004-03-26 00:00:00</td>\n",
              "      <td>2004-02-26 00:00:00</td>\n",
              "      <td>2011-05-19 00:00:00</td>\n",
              "      <td>2009-07-23 00:00:00</td>\n",
              "    </tr>\n",
              "    <tr>\n",
              "      <th>fiModelDesc</th>\n",
              "      <td>521D</td>\n",
              "      <td>950FII</td>\n",
              "      <td>226</td>\n",
              "      <td>PC120-6E</td>\n",
              "      <td>S175</td>\n",
              "    </tr>\n",
              "    <tr>\n",
              "      <th>fiBaseModel</th>\n",
              "      <td>521</td>\n",
              "      <td>950</td>\n",
              "      <td>226</td>\n",
              "      <td>PC120</td>\n",
              "      <td>S175</td>\n",
              "    </tr>\n",
              "    <tr>\n",
              "      <th>fiSecondaryDesc</th>\n",
              "      <td>D</td>\n",
              "      <td>F</td>\n",
              "      <td>NaN</td>\n",
              "      <td>NaN</td>\n",
              "      <td>NaN</td>\n",
              "    </tr>\n",
              "    <tr>\n",
              "      <th>fiModelSeries</th>\n",
              "      <td>NaN</td>\n",
              "      <td>II</td>\n",
              "      <td>NaN</td>\n",
              "      <td>-6E</td>\n",
              "      <td>NaN</td>\n",
              "    </tr>\n",
              "    <tr>\n",
              "      <th>fiModelDescriptor</th>\n",
              "      <td>NaN</td>\n",
              "      <td>NaN</td>\n",
              "      <td>NaN</td>\n",
              "      <td>NaN</td>\n",
              "      <td>NaN</td>\n",
              "    </tr>\n",
              "    <tr>\n",
              "      <th>ProductSize</th>\n",
              "      <td>NaN</td>\n",
              "      <td>Medium</td>\n",
              "      <td>NaN</td>\n",
              "      <td>Small</td>\n",
              "      <td>NaN</td>\n",
              "    </tr>\n",
              "    <tr>\n",
              "      <th>fiProductClassDesc</th>\n",
              "      <td>Wheel Loader - 110.0 to 120.0 Horsepower</td>\n",
              "      <td>Wheel Loader - 150.0 to 175.0 Horsepower</td>\n",
              "      <td>Skid Steer Loader - 1351.0 to 1601.0 Lb Operat...</td>\n",
              "      <td>Hydraulic Excavator, Track - 12.0 to 14.0 Metr...</td>\n",
              "      <td>Skid Steer Loader - 1601.0 to 1751.0 Lb Operat...</td>\n",
              "    </tr>\n",
              "    <tr>\n",
              "      <th>state</th>\n",
              "      <td>Alabama</td>\n",
              "      <td>North Carolina</td>\n",
              "      <td>New York</td>\n",
              "      <td>Texas</td>\n",
              "      <td>New York</td>\n",
              "    </tr>\n",
              "    <tr>\n",
              "      <th>ProductGroup</th>\n",
              "      <td>WL</td>\n",
              "      <td>WL</td>\n",
              "      <td>SSL</td>\n",
              "      <td>TEX</td>\n",
              "      <td>SSL</td>\n",
              "    </tr>\n",
              "    <tr>\n",
              "      <th>ProductGroupDesc</th>\n",
              "      <td>Wheel Loader</td>\n",
              "      <td>Wheel Loader</td>\n",
              "      <td>Skid Steer Loaders</td>\n",
              "      <td>Track Excavators</td>\n",
              "      <td>Skid Steer Loaders</td>\n",
              "    </tr>\n",
              "    <tr>\n",
              "      <th>Drive_System</th>\n",
              "      <td>NaN</td>\n",
              "      <td>NaN</td>\n",
              "      <td>NaN</td>\n",
              "      <td>NaN</td>\n",
              "      <td>NaN</td>\n",
              "    </tr>\n",
              "    <tr>\n",
              "      <th>Enclosure</th>\n",
              "      <td>EROPS w AC</td>\n",
              "      <td>EROPS w AC</td>\n",
              "      <td>OROPS</td>\n",
              "      <td>EROPS w AC</td>\n",
              "      <td>EROPS</td>\n",
              "    </tr>\n",
              "    <tr>\n",
              "      <th>Forks</th>\n",
              "      <td>None or Unspecified</td>\n",
              "      <td>None or Unspecified</td>\n",
              "      <td>None or Unspecified</td>\n",
              "      <td>NaN</td>\n",
              "      <td>None or Unspecified</td>\n",
              "    </tr>\n",
              "    <tr>\n",
              "      <th>Pad_Type</th>\n",
              "      <td>NaN</td>\n",
              "      <td>NaN</td>\n",
              "      <td>NaN</td>\n",
              "      <td>NaN</td>\n",
              "      <td>NaN</td>\n",
              "    </tr>\n",
              "    <tr>\n",
              "      <th>Ride_Control</th>\n",
              "      <td>None or Unspecified</td>\n",
              "      <td>None or Unspecified</td>\n",
              "      <td>NaN</td>\n",
              "      <td>NaN</td>\n",
              "      <td>NaN</td>\n",
              "    </tr>\n",
              "    <tr>\n",
              "      <th>Stick</th>\n",
              "      <td>NaN</td>\n",
              "      <td>NaN</td>\n",
              "      <td>NaN</td>\n",
              "      <td>NaN</td>\n",
              "      <td>NaN</td>\n",
              "    </tr>\n",
              "    <tr>\n",
              "      <th>Transmission</th>\n",
              "      <td>NaN</td>\n",
              "      <td>NaN</td>\n",
              "      <td>NaN</td>\n",
              "      <td>NaN</td>\n",
              "      <td>NaN</td>\n",
              "    </tr>\n",
              "    <tr>\n",
              "      <th>Turbocharged</th>\n",
              "      <td>NaN</td>\n",
              "      <td>NaN</td>\n",
              "      <td>NaN</td>\n",
              "      <td>NaN</td>\n",
              "      <td>NaN</td>\n",
              "    </tr>\n",
              "    <tr>\n",
              "      <th>Blade_Extension</th>\n",
              "      <td>NaN</td>\n",
              "      <td>NaN</td>\n",
              "      <td>NaN</td>\n",
              "      <td>NaN</td>\n",
              "      <td>NaN</td>\n",
              "    </tr>\n",
              "    <tr>\n",
              "      <th>Blade_Width</th>\n",
              "      <td>NaN</td>\n",
              "      <td>NaN</td>\n",
              "      <td>NaN</td>\n",
              "      <td>NaN</td>\n",
              "      <td>NaN</td>\n",
              "    </tr>\n",
              "    <tr>\n",
              "      <th>Enclosure_Type</th>\n",
              "      <td>NaN</td>\n",
              "      <td>NaN</td>\n",
              "      <td>NaN</td>\n",
              "      <td>NaN</td>\n",
              "      <td>NaN</td>\n",
              "    </tr>\n",
              "    <tr>\n",
              "      <th>Engine_Horsepower</th>\n",
              "      <td>NaN</td>\n",
              "      <td>NaN</td>\n",
              "      <td>NaN</td>\n",
              "      <td>NaN</td>\n",
              "      <td>NaN</td>\n",
              "    </tr>\n",
              "    <tr>\n",
              "      <th>Hydraulics</th>\n",
              "      <td>2 Valve</td>\n",
              "      <td>2 Valve</td>\n",
              "      <td>Auxiliary</td>\n",
              "      <td>2 Valve</td>\n",
              "      <td>Auxiliary</td>\n",
              "    </tr>\n",
              "    <tr>\n",
              "      <th>Pushblock</th>\n",
              "      <td>NaN</td>\n",
              "      <td>NaN</td>\n",
              "      <td>NaN</td>\n",
              "      <td>NaN</td>\n",
              "      <td>NaN</td>\n",
              "    </tr>\n",
              "    <tr>\n",
              "      <th>Ripper</th>\n",
              "      <td>NaN</td>\n",
              "      <td>NaN</td>\n",
              "      <td>NaN</td>\n",
              "      <td>NaN</td>\n",
              "      <td>NaN</td>\n",
              "    </tr>\n",
              "    <tr>\n",
              "      <th>Scarifier</th>\n",
              "      <td>NaN</td>\n",
              "      <td>NaN</td>\n",
              "      <td>NaN</td>\n",
              "      <td>NaN</td>\n",
              "      <td>NaN</td>\n",
              "    </tr>\n",
              "    <tr>\n",
              "      <th>Tip_Control</th>\n",
              "      <td>NaN</td>\n",
              "      <td>NaN</td>\n",
              "      <td>NaN</td>\n",
              "      <td>NaN</td>\n",
              "      <td>NaN</td>\n",
              "    </tr>\n",
              "    <tr>\n",
              "      <th>Tire_Size</th>\n",
              "      <td>None or Unspecified</td>\n",
              "      <td>23.5</td>\n",
              "      <td>NaN</td>\n",
              "      <td>NaN</td>\n",
              "      <td>NaN</td>\n",
              "    </tr>\n",
              "    <tr>\n",
              "      <th>Coupler</th>\n",
              "      <td>None or Unspecified</td>\n",
              "      <td>None or Unspecified</td>\n",
              "      <td>None or Unspecified</td>\n",
              "      <td>None or Unspecified</td>\n",
              "      <td>None or Unspecified</td>\n",
              "    </tr>\n",
              "    <tr>\n",
              "      <th>Coupler_System</th>\n",
              "      <td>NaN</td>\n",
              "      <td>NaN</td>\n",
              "      <td>None or Unspecified</td>\n",
              "      <td>NaN</td>\n",
              "      <td>None or Unspecified</td>\n",
              "    </tr>\n",
              "    <tr>\n",
              "      <th>Grouser_Tracks</th>\n",
              "      <td>NaN</td>\n",
              "      <td>NaN</td>\n",
              "      <td>None or Unspecified</td>\n",
              "      <td>NaN</td>\n",
              "      <td>None or Unspecified</td>\n",
              "    </tr>\n",
              "    <tr>\n",
              "      <th>Hydraulics_Flow</th>\n",
              "      <td>NaN</td>\n",
              "      <td>NaN</td>\n",
              "      <td>Standard</td>\n",
              "      <td>NaN</td>\n",
              "      <td>Standard</td>\n",
              "    </tr>\n",
              "    <tr>\n",
              "      <th>Track_Type</th>\n",
              "      <td>NaN</td>\n",
              "      <td>NaN</td>\n",
              "      <td>NaN</td>\n",
              "      <td>NaN</td>\n",
              "      <td>NaN</td>\n",
              "    </tr>\n",
              "    <tr>\n",
              "      <th>Undercarriage_Pad_Width</th>\n",
              "      <td>NaN</td>\n",
              "      <td>NaN</td>\n",
              "      <td>NaN</td>\n",
              "      <td>NaN</td>\n",
              "      <td>NaN</td>\n",
              "    </tr>\n",
              "    <tr>\n",
              "      <th>Stick_Length</th>\n",
              "      <td>NaN</td>\n",
              "      <td>NaN</td>\n",
              "      <td>NaN</td>\n",
              "      <td>NaN</td>\n",
              "      <td>NaN</td>\n",
              "    </tr>\n",
              "    <tr>\n",
              "      <th>Thumb</th>\n",
              "      <td>NaN</td>\n",
              "      <td>NaN</td>\n",
              "      <td>NaN</td>\n",
              "      <td>NaN</td>\n",
              "      <td>NaN</td>\n",
              "    </tr>\n",
              "    <tr>\n",
              "      <th>Pattern_Changer</th>\n",
              "      <td>NaN</td>\n",
              "      <td>NaN</td>\n",
              "      <td>NaN</td>\n",
              "      <td>NaN</td>\n",
              "      <td>NaN</td>\n",
              "    </tr>\n",
              "    <tr>\n",
              "      <th>Grouser_Type</th>\n",
              "      <td>NaN</td>\n",
              "      <td>NaN</td>\n",
              "      <td>NaN</td>\n",
              "      <td>NaN</td>\n",
              "      <td>NaN</td>\n",
              "    </tr>\n",
              "    <tr>\n",
              "      <th>Backhoe_Mounting</th>\n",
              "      <td>NaN</td>\n",
              "      <td>NaN</td>\n",
              "      <td>NaN</td>\n",
              "      <td>NaN</td>\n",
              "      <td>NaN</td>\n",
              "    </tr>\n",
              "    <tr>\n",
              "      <th>Blade_Type</th>\n",
              "      <td>NaN</td>\n",
              "      <td>NaN</td>\n",
              "      <td>NaN</td>\n",
              "      <td>NaN</td>\n",
              "      <td>NaN</td>\n",
              "    </tr>\n",
              "    <tr>\n",
              "      <th>Travel_Controls</th>\n",
              "      <td>NaN</td>\n",
              "      <td>NaN</td>\n",
              "      <td>NaN</td>\n",
              "      <td>NaN</td>\n",
              "      <td>NaN</td>\n",
              "    </tr>\n",
              "    <tr>\n",
              "      <th>Differential_Type</th>\n",
              "      <td>Standard</td>\n",
              "      <td>Standard</td>\n",
              "      <td>NaN</td>\n",
              "      <td>NaN</td>\n",
              "      <td>NaN</td>\n",
              "    </tr>\n",
              "    <tr>\n",
              "      <th>Steering_Controls</th>\n",
              "      <td>Conventional</td>\n",
              "      <td>Conventional</td>\n",
              "      <td>NaN</td>\n",
              "      <td>NaN</td>\n",
              "      <td>NaN</td>\n",
              "    </tr>\n",
              "  </tbody>\n",
              "</table>\n",
              "</div>"
            ],
            "text/plain": [
              "                                                                 0  ...                                                  4\n",
              "SalesID                                                    1139246  ...                                            1139253\n",
              "SalePrice                                                    66000  ...                                              11000\n",
              "MachineID                                                   999089  ...                                            1057373\n",
              "ModelID                                                       3157  ...                                              17311\n",
              "datasource                                                     121  ...                                                121\n",
              "auctioneerID                                                     3  ...                                                  3\n",
              "YearMade                                                      2004  ...                                               2007\n",
              "MachineHoursCurrentMeter                                        68  ...                                                722\n",
              "UsageBand                                                      Low  ...                                             Medium\n",
              "saledate                                       2006-11-16 00:00:00  ...                                2009-07-23 00:00:00\n",
              "fiModelDesc                                                   521D  ...                                               S175\n",
              "fiBaseModel                                                    521  ...                                               S175\n",
              "fiSecondaryDesc                                                  D  ...                                                NaN\n",
              "fiModelSeries                                                  NaN  ...                                                NaN\n",
              "fiModelDescriptor                                              NaN  ...                                                NaN\n",
              "ProductSize                                                    NaN  ...                                                NaN\n",
              "fiProductClassDesc        Wheel Loader - 110.0 to 120.0 Horsepower  ...  Skid Steer Loader - 1601.0 to 1751.0 Lb Operat...\n",
              "state                                                      Alabama  ...                                           New York\n",
              "ProductGroup                                                    WL  ...                                                SSL\n",
              "ProductGroupDesc                                      Wheel Loader  ...                                 Skid Steer Loaders\n",
              "Drive_System                                                   NaN  ...                                                NaN\n",
              "Enclosure                                               EROPS w AC  ...                                              EROPS\n",
              "Forks                                          None or Unspecified  ...                                None or Unspecified\n",
              "Pad_Type                                                       NaN  ...                                                NaN\n",
              "Ride_Control                                   None or Unspecified  ...                                                NaN\n",
              "Stick                                                          NaN  ...                                                NaN\n",
              "Transmission                                                   NaN  ...                                                NaN\n",
              "Turbocharged                                                   NaN  ...                                                NaN\n",
              "Blade_Extension                                                NaN  ...                                                NaN\n",
              "Blade_Width                                                    NaN  ...                                                NaN\n",
              "Enclosure_Type                                                 NaN  ...                                                NaN\n",
              "Engine_Horsepower                                              NaN  ...                                                NaN\n",
              "Hydraulics                                                 2 Valve  ...                                          Auxiliary\n",
              "Pushblock                                                      NaN  ...                                                NaN\n",
              "Ripper                                                         NaN  ...                                                NaN\n",
              "Scarifier                                                      NaN  ...                                                NaN\n",
              "Tip_Control                                                    NaN  ...                                                NaN\n",
              "Tire_Size                                      None or Unspecified  ...                                                NaN\n",
              "Coupler                                        None or Unspecified  ...                                None or Unspecified\n",
              "Coupler_System                                                 NaN  ...                                None or Unspecified\n",
              "Grouser_Tracks                                                 NaN  ...                                None or Unspecified\n",
              "Hydraulics_Flow                                                NaN  ...                                           Standard\n",
              "Track_Type                                                     NaN  ...                                                NaN\n",
              "Undercarriage_Pad_Width                                        NaN  ...                                                NaN\n",
              "Stick_Length                                                   NaN  ...                                                NaN\n",
              "Thumb                                                          NaN  ...                                                NaN\n",
              "Pattern_Changer                                                NaN  ...                                                NaN\n",
              "Grouser_Type                                                   NaN  ...                                                NaN\n",
              "Backhoe_Mounting                                               NaN  ...                                                NaN\n",
              "Blade_Type                                                     NaN  ...                                                NaN\n",
              "Travel_Controls                                                NaN  ...                                                NaN\n",
              "Differential_Type                                         Standard  ...                                                NaN\n",
              "Steering_Controls                                     Conventional  ...                                                NaN\n",
              "\n",
              "[53 rows x 5 columns]"
            ]
          },
          "metadata": {
            "tags": []
          },
          "execution_count": 78
        }
      ]
    },
    {
      "cell_type": "markdown",
      "metadata": {
        "id": "UUUyNWScmvNV"
      },
      "source": [
        " Now we have a copy of our data. Lets manipulate it to understand more about the data by creating the more fields from the dateseries features by using the pandas library."
      ]
    },
    {
      "cell_type": "code",
      "metadata": {
        "id": "ediMBc_OmvNW"
      },
      "source": [
        "df_tmp['Year'] = df_tmp['saledate'].dt.year\n",
        "df_tmp['Day'] = df_tmp['saledate'].dt.day\n",
        "df_tmp['Month'] = df_tmp['saledate'].dt.month\n",
        "df_tmp['MonthStart'] = df_tmp['saledate'].dt.is_month_start\n",
        "df_tmp['MonthEnd'] = df_tmp['saledate'].dt.is_month_end\n",
        "df_tmp['YearStart'] = df_tmp['saledate'].dt.is_year_start\n",
        "df_tmp['YearEnd'] = df_tmp['saledate'].dt.is_year_end\n",
        "df_tmp['LeapYear'] = df_tmp['saledate'].dt.is_leap_year"
      ],
      "execution_count": 79,
      "outputs": []
    },
    {
      "cell_type": "code",
      "metadata": {
        "colab": {
          "base_uri": "https://localhost:8080/",
          "height": 402
        },
        "id": "ZxRbQajPmvNW",
        "outputId": "edd2d57c-f435-44be-e6f6-4d5256d18f6e"
      },
      "source": [
        "df_tmp.head().T"
      ],
      "execution_count": 80,
      "outputs": [
        {
          "output_type": "execute_result",
          "data": {
            "text/html": [
              "<div>\n",
              "<style scoped>\n",
              "    .dataframe tbody tr th:only-of-type {\n",
              "        vertical-align: middle;\n",
              "    }\n",
              "\n",
              "    .dataframe tbody tr th {\n",
              "        vertical-align: top;\n",
              "    }\n",
              "\n",
              "    .dataframe thead th {\n",
              "        text-align: right;\n",
              "    }\n",
              "</style>\n",
              "<table border=\"1\" class=\"dataframe\">\n",
              "  <thead>\n",
              "    <tr style=\"text-align: right;\">\n",
              "      <th></th>\n",
              "      <th>0</th>\n",
              "      <th>1</th>\n",
              "      <th>2</th>\n",
              "      <th>3</th>\n",
              "      <th>4</th>\n",
              "    </tr>\n",
              "  </thead>\n",
              "  <tbody>\n",
              "    <tr>\n",
              "      <th>SalesID</th>\n",
              "      <td>1139246</td>\n",
              "      <td>1139248</td>\n",
              "      <td>1139249</td>\n",
              "      <td>1139251</td>\n",
              "      <td>1139253</td>\n",
              "    </tr>\n",
              "    <tr>\n",
              "      <th>SalePrice</th>\n",
              "      <td>66000</td>\n",
              "      <td>57000</td>\n",
              "      <td>10000</td>\n",
              "      <td>38500</td>\n",
              "      <td>11000</td>\n",
              "    </tr>\n",
              "    <tr>\n",
              "      <th>MachineID</th>\n",
              "      <td>999089</td>\n",
              "      <td>117657</td>\n",
              "      <td>434808</td>\n",
              "      <td>1026470</td>\n",
              "      <td>1057373</td>\n",
              "    </tr>\n",
              "    <tr>\n",
              "      <th>ModelID</th>\n",
              "      <td>3157</td>\n",
              "      <td>77</td>\n",
              "      <td>7009</td>\n",
              "      <td>332</td>\n",
              "      <td>17311</td>\n",
              "    </tr>\n",
              "    <tr>\n",
              "      <th>datasource</th>\n",
              "      <td>121</td>\n",
              "      <td>121</td>\n",
              "      <td>121</td>\n",
              "      <td>121</td>\n",
              "      <td>121</td>\n",
              "    </tr>\n",
              "    <tr>\n",
              "      <th>...</th>\n",
              "      <td>...</td>\n",
              "      <td>...</td>\n",
              "      <td>...</td>\n",
              "      <td>...</td>\n",
              "      <td>...</td>\n",
              "    </tr>\n",
              "    <tr>\n",
              "      <th>MonthStart</th>\n",
              "      <td>False</td>\n",
              "      <td>False</td>\n",
              "      <td>False</td>\n",
              "      <td>False</td>\n",
              "      <td>False</td>\n",
              "    </tr>\n",
              "    <tr>\n",
              "      <th>MonthEnd</th>\n",
              "      <td>False</td>\n",
              "      <td>False</td>\n",
              "      <td>False</td>\n",
              "      <td>False</td>\n",
              "      <td>False</td>\n",
              "    </tr>\n",
              "    <tr>\n",
              "      <th>YearStart</th>\n",
              "      <td>False</td>\n",
              "      <td>False</td>\n",
              "      <td>False</td>\n",
              "      <td>False</td>\n",
              "      <td>False</td>\n",
              "    </tr>\n",
              "    <tr>\n",
              "      <th>YearEnd</th>\n",
              "      <td>False</td>\n",
              "      <td>False</td>\n",
              "      <td>False</td>\n",
              "      <td>False</td>\n",
              "      <td>False</td>\n",
              "    </tr>\n",
              "    <tr>\n",
              "      <th>LeapYear</th>\n",
              "      <td>False</td>\n",
              "      <td>True</td>\n",
              "      <td>True</td>\n",
              "      <td>False</td>\n",
              "      <td>False</td>\n",
              "    </tr>\n",
              "  </tbody>\n",
              "</table>\n",
              "<p>61 rows × 5 columns</p>\n",
              "</div>"
            ],
            "text/plain": [
              "                  0        1        2        3        4\n",
              "SalesID     1139246  1139248  1139249  1139251  1139253\n",
              "SalePrice     66000    57000    10000    38500    11000\n",
              "MachineID    999089   117657   434808  1026470  1057373\n",
              "ModelID        3157       77     7009      332    17311\n",
              "datasource      121      121      121      121      121\n",
              "...             ...      ...      ...      ...      ...\n",
              "MonthStart    False    False    False    False    False\n",
              "MonthEnd      False    False    False    False    False\n",
              "YearStart     False    False    False    False    False\n",
              "YearEnd       False    False    False    False    False\n",
              "LeapYear      False     True     True    False    False\n",
              "\n",
              "[61 rows x 5 columns]"
            ]
          },
          "metadata": {
            "tags": []
          },
          "execution_count": 80
        }
      ]
    },
    {
      "cell_type": "markdown",
      "metadata": {
        "id": "5a1UhDwGmvNY"
      },
      "source": [
        "Since we utilize the saledate feature into different feature variable, we drop the saledate feature from the datasets."
      ]
    },
    {
      "cell_type": "code",
      "metadata": {
        "id": "ICh48HfdmvNY"
      },
      "source": [
        "df_tmp.drop('saledate', axis=1, inplace=True)"
      ],
      "execution_count": 81,
      "outputs": []
    },
    {
      "cell_type": "markdown",
      "metadata": {
        "id": "9bYcO6rWmvNZ"
      },
      "source": [
        "Lets perform some EDA on our new feature and check how they affect the SalePrice column, after all our objective is create a machine learning model for the predicting the SalePrice of the bulldozers."
      ]
    },
    {
      "cell_type": "code",
      "metadata": {
        "colab": {
          "base_uri": "https://localhost:8080/",
          "height": 295
        },
        "id": "my6FbWK7mvNZ",
        "outputId": "be5b45d5-37ef-4ee7-804b-3cb6d9935bdd"
      },
      "source": [
        "pd.DataFrame(df_tmp['MonthStart'].value_counts()).plot(kind='bar')\n",
        "plt.xlabel('MonthStart')\n",
        "plt.ylabel('Frequency');"
      ],
      "execution_count": 82,
      "outputs": [
        {
          "output_type": "display_data",
          "data": {
            "image/png": "[encoded data removed]",
            "text/plain": [
              "<Figure size 432x288 with 1 Axes>"
            ]
          },
          "metadata": {
            "tags": [],
            "needs_background": "light"
          }
        }
      ]
    },
    {
      "cell_type": "markdown",
      "metadata": {
        "id": "gPKTMdxqmvNa"
      },
      "source": [
        "So, we see that in the starting month bulldozers don't have a good sale. Lets see in the end of the month what graph and the value shows us."
      ]
    },
    {
      "cell_type": "code",
      "metadata": {
        "colab": {
          "base_uri": "https://localhost:8080/",
          "height": 281
        },
        "id": "HoFLbFJxmvNb",
        "outputId": "65c7357a-5998-43e3-cee1-ea0b957a3a5e"
      },
      "source": [
        "pd.DataFrame(df_tmp['MonthEnd'].value_counts()).plot(kind='bar');"
      ],
      "execution_count": 83,
      "outputs": [
        {
          "output_type": "display_data",
          "data": {
            "image/png": "[encoded data removed]",
            "text/plain": [
              "<Figure size 432x288 with 1 Axes>"
            ]
          },
          "metadata": {
            "tags": [],
            "needs_background": "light"
          }
        }
      ]
    },
    {
      "cell_type": "markdown",
      "metadata": {
        "id": "Wo6ID1QAmvNc"
      },
      "source": [
        "So, the bulldozers are sell in the middle of the month as both the graph have a high value of False.\n",
        "\n",
        "Lets check the same in the year."
      ]
    },
    {
      "cell_type": "code",
      "metadata": {
        "colab": {
          "base_uri": "https://localhost:8080/",
          "height": 281
        },
        "id": "urNt20HKmvNc",
        "outputId": "1bdd7074-9bbd-4640-b7e7-415faed0d97a"
      },
      "source": [
        "pd.DataFrame(df_tmp['YearStart'].value_counts()).plot(kind='bar');"
      ],
      "execution_count": 84,
      "outputs": [
        {
          "output_type": "display_data",
          "data": {
            "image/png": "[encoded data removed]",
            "text/plain": [
              "<Figure size 432x288 with 1 Axes>"
            ]
          },
          "metadata": {
            "tags": [],
            "needs_background": "light"
          }
        }
      ]
    },
    {
      "cell_type": "code",
      "metadata": {
        "colab": {
          "base_uri": "https://localhost:8080/",
          "height": 281
        },
        "id": "UJ1UL5zymvNd",
        "outputId": "2c01d9de-f1ba-44b6-f3d3-5b590b93867d"
      },
      "source": [
        "pd.DataFrame(df_tmp['YearEnd'].value_counts()).plot(kind='bar');"
      ],
      "execution_count": 85,
      "outputs": [
        {
          "output_type": "display_data",
          "data": {
            "image/png": "[encoded data removed]",
            "text/plain": [
              "<Figure size 432x288 with 1 Axes>"
            ]
          },
          "metadata": {
            "tags": [],
            "needs_background": "light"
          }
        }
      ]
    },
    {
      "cell_type": "code",
      "metadata": {
        "colab": {
          "base_uri": "https://localhost:8080/",
          "height": 281
        },
        "id": "WSyxiEFhmvNe",
        "outputId": "134ac390-0f99-4cc4-a662-ad1b03818628"
      },
      "source": [
        "pd.DataFrame(df_tmp['LeapYear'].value_counts()).plot(kind='bar');"
      ],
      "execution_count": 86,
      "outputs": [
        {
          "output_type": "display_data",
          "data": {
            "image/png": "[encoded data removed]",
            "text/plain": [
              "<Figure size 432x288 with 1 Axes>"
            ]
          },
          "metadata": {
            "tags": [],
            "needs_background": "light"
          }
        }
      ]
    },
    {
      "cell_type": "markdown",
      "metadata": {
        "id": "esIYf6DUmvNe"
      },
      "source": [
        "Leap Year have good proporation of ratio with non-leap year. Sales of the bulldozers are good in the leap year but in the starting and ending of the year doesnot have good sale. So, bulldozers sales are good in the middle of the year.\n",
        "\n",
        "We perform the enough EDA on our datasets and understand where we got the high chances of the bulldozers sales and reason for getting the product price high. Now, we perform some machine learning modelling. But before digging into modelling part lets evaluate wheater our data is good for creating the machine learning model.\n",
        "\n",
        "<a id='evaluation'></a>\n",
        "## 4. Evalutation\n",
        "\n",
        "In this section we make our dataset ready for the machine learning model. \n",
        "* We fill the missing numerical value in our dataset.\n",
        "* Convert the object dtype to categorical dtype.\n",
        "* Fill the categorical missing column by using the categorical codes."
      ]
    },
    {
      "cell_type": "code",
      "metadata": {
        "colab": {
          "base_uri": "https://localhost:8080/"
        },
        "id": "vEvgz-jLmvNf",
        "outputId": "d83f99bc-ffa8-4e99-8007-92fbac004928"
      },
      "source": [
        "df_tmp.info()"
      ],
      "execution_count": 87,
      "outputs": [
        {
          "output_type": "stream",
          "text": [
            "<class 'pandas.core.frame.DataFrame'>\n",
            "RangeIndex: 7101 entries, 0 to 7100\n",
            "Data columns (total 60 columns):\n",
            " #   Column                    Non-Null Count  Dtype \n",
            "---  ------                    --------------  ----- \n",
            " 0   SalesID                   7101 non-null   int64 \n",
            " 1   SalePrice                 7101 non-null   int64 \n",
            " 2   MachineID                 7101 non-null   int64 \n",
            " 3   ModelID                   7101 non-null   int64 \n",
            " 4   datasource                7101 non-null   int64 \n",
            " 5   auctioneerID              7101 non-null   int64 \n",
            " 6   YearMade                  7101 non-null   object\n",
            " 7   MachineHoursCurrentMeter  7101 non-null   int64 \n",
            " 8   UsageBand                 6200 non-null   object\n",
            " 9   fiModelDesc               7101 non-null   object\n",
            " 10  fiBaseModel               7101 non-null   object\n",
            " 11  fiSecondaryDesc           4621 non-null   object\n",
            " 12  fiModelSeries             975 non-null    object\n",
            " 13  fiModelDescriptor         1730 non-null   object\n",
            " 14  ProductSize               3292 non-null   object\n",
            " 15  fiProductClassDesc        7101 non-null   object\n",
            " 16  state                     7101 non-null   object\n",
            " 17  ProductGroup              7101 non-null   object\n",
            " 18  ProductGroupDesc          7101 non-null   object\n",
            " 19  Drive_System              1579 non-null   object\n",
            " 20  Enclosure                 7097 non-null   object\n",
            " 21  Forks                     3591 non-null   object\n",
            " 22  Pad_Type                  1188 non-null   object\n",
            " 23  Ride_Control              2375 non-null   object\n",
            " 24  Stick                     1188 non-null   object\n",
            " 25  Transmission              2789 non-null   object\n",
            " 26  Turbocharged              1188 non-null   object\n",
            " 27  Blade_Extension           389 non-null    object\n",
            " 28  Blade_Width               389 non-null    object\n",
            " 29  Enclosure_Type            389 non-null    object\n",
            " 30  Engine_Horsepower         389 non-null    object\n",
            " 31  Hydraulics                5891 non-null   object\n",
            " 32  Pushblock                 389 non-null    object\n",
            " 33  Ripper                    1596 non-null   object\n",
            " 34  Scarifier                 389 non-null    object\n",
            " 35  Tip_Control               388 non-null    object\n",
            " 36  Tire_Size                 1573 non-null   object\n",
            " 37  Coupler                   4265 non-null   object\n",
            " 38  Coupler_System            1217 non-null   object\n",
            " 39  Grouser_Tracks            1213 non-null   object\n",
            " 40  Hydraulics_Flow           1213 non-null   object\n",
            " 41  Track_Type                1843 non-null   object\n",
            " 42  Undercarriage_Pad_Width   1855 non-null   object\n",
            " 43  Stick_Length              1843 non-null   object\n",
            " 44  Thumb                     1845 non-null   object\n",
            " 45  Pattern_Changer           1843 non-null   object\n",
            " 46  Grouser_Type              1843 non-null   object\n",
            " 47  Backhoe_Mounting          1204 non-null   object\n",
            " 48  Blade_Type                1216 non-null   object\n",
            " 49  Travel_Controls           1215 non-null   object\n",
            " 50  Differential_Type         1184 non-null   object\n",
            " 51  Steering_Controls         1184 non-null   object\n",
            " 52  Year                      7101 non-null   int64 \n",
            " 53  Day                       7101 non-null   int64 \n",
            " 54  Month                     7101 non-null   int64 \n",
            " 55  MonthStart                7101 non-null   bool  \n",
            " 56  MonthEnd                  7101 non-null   bool  \n",
            " 57  YearStart                 7101 non-null   bool  \n",
            " 58  YearEnd                   7101 non-null   bool  \n",
            " 59  LeapYear                  7101 non-null   bool  \n",
            "dtypes: bool(5), int64(10), object(45)\n",
            "memory usage: 3.0+ MB\n"
          ],
          "name": "stdout"
        }
      ]
    },
    {
      "cell_type": "code",
      "metadata": {
        "colab": {
          "base_uri": "https://localhost:8080/"
        },
        "id": "Dm5lxUWcmvNi",
        "outputId": "da10de8e-eb51-4c8f-8d13-3edca966a0b1"
      },
      "source": [
        "df_tmp.isna().sum()"
      ],
      "execution_count": 88,
      "outputs": [
        {
          "output_type": "execute_result",
          "data": {
            "text/plain": [
              "SalesID                        0\n",
              "SalePrice                      0\n",
              "MachineID                      0\n",
              "ModelID                        0\n",
              "datasource                     0\n",
              "auctioneerID                   0\n",
              "YearMade                       0\n",
              "MachineHoursCurrentMeter       0\n",
              "UsageBand                    901\n",
              "fiModelDesc                    0\n",
              "fiBaseModel                    0\n",
              "fiSecondaryDesc             2480\n",
              "fiModelSeries               6126\n",
              "fiModelDescriptor           5371\n",
              "ProductSize                 3809\n",
              "fiProductClassDesc             0\n",
              "state                          0\n",
              "ProductGroup                   0\n",
              "ProductGroupDesc               0\n",
              "Drive_System                5522\n",
              "Enclosure                      4\n",
              "Forks                       3510\n",
              "Pad_Type                    5913\n",
              "Ride_Control                4726\n",
              "Stick                       5913\n",
              "Transmission                4312\n",
              "Turbocharged                5913\n",
              "Blade_Extension             6712\n",
              "Blade_Width                 6712\n",
              "Enclosure_Type              6712\n",
              "Engine_Horsepower           6712\n",
              "Hydraulics                  1210\n",
              "Pushblock                   6712\n",
              "Ripper                      5505\n",
              "Scarifier                   6712\n",
              "Tip_Control                 6713\n",
              "Tire_Size                   5528\n",
              "Coupler                     2836\n",
              "Coupler_System              5884\n",
              "Grouser_Tracks              5888\n",
              "Hydraulics_Flow             5888\n",
              "Track_Type                  5258\n",
              "Undercarriage_Pad_Width     5246\n",
              "Stick_Length                5258\n",
              "Thumb                       5256\n",
              "Pattern_Changer             5258\n",
              "Grouser_Type                5258\n",
              "Backhoe_Mounting            5897\n",
              "Blade_Type                  5885\n",
              "Travel_Controls             5886\n",
              "Differential_Type           5917\n",
              "Steering_Controls           5917\n",
              "Year                           0\n",
              "Day                            0\n",
              "Month                          0\n",
              "MonthStart                     0\n",
              "MonthEnd                       0\n",
              "YearStart                      0\n",
              "YearEnd                        0\n",
              "LeapYear                       0\n",
              "dtype: int64"
            ]
          },
          "metadata": {
            "tags": []
          },
          "execution_count": 88
        }
      ]
    },
    {
      "cell_type": "markdown",
      "metadata": {
        "id": "lzElp9cbmvNj"
      },
      "source": [
        "As we see that we a lots of null and object value in our datasets which is suitable for our machine learning model. So, first we have to convert object into numeric one and fill the null value in our datasets."
      ]
    },
    {
      "cell_type": "code",
      "metadata": {
        "id": "dkwOCDNnmvNk"
      },
      "source": [
        "for label, content in df_tmp.items():\n",
        "    if pd.api.types.is_float_dtype(content):\n",
        "        df_tmp[label+'_missing_value'] = pd.isnull(content)\n",
        "        df_tmp[label] = content.fillna(content.median)"
      ],
      "execution_count": 89,
      "outputs": []
    },
    {
      "cell_type": "code",
      "metadata": {
        "colab": {
          "base_uri": "https://localhost:8080/"
        },
        "id": "WnnEmXkXmvNl",
        "outputId": "54245c36-409f-4419-fb86-ac4666878b29"
      },
      "source": [
        "df_tmp.isna().sum()[:10]"
      ],
      "execution_count": 90,
      "outputs": [
        {
          "output_type": "execute_result",
          "data": {
            "text/plain": [
              "SalesID                       0\n",
              "SalePrice                     0\n",
              "MachineID                     0\n",
              "ModelID                       0\n",
              "datasource                    0\n",
              "auctioneerID                  0\n",
              "YearMade                      0\n",
              "MachineHoursCurrentMeter      0\n",
              "UsageBand                   901\n",
              "fiModelDesc                   0\n",
              "dtype: int64"
            ]
          },
          "metadata": {
            "tags": []
          },
          "execution_count": 90
        }
      ]
    },
    {
      "cell_type": "markdown",
      "metadata": {
        "id": "d1JEWSZwmvNm"
      },
      "source": [
        "We fill the float value into numeric one. Lets convert the object value into category dtype and then fill the value in our missing datasets."
      ]
    },
    {
      "cell_type": "code",
      "metadata": {
        "colab": {
          "base_uri": "https://localhost:8080/"
        },
        "id": "ZVX27Zm_mvNn",
        "outputId": "664ef78d-37ad-4111-e25a-fde6ded7bce8"
      },
      "source": [
        "df_tmp['UsageBand'].dtype"
      ],
      "execution_count": 91,
      "outputs": [
        {
          "output_type": "execute_result",
          "data": {
            "text/plain": [
              "dtype('O')"
            ]
          },
          "metadata": {
            "tags": []
          },
          "execution_count": 91
        }
      ]
    },
    {
      "cell_type": "code",
      "metadata": {
        "id": "sYQ1au_emvNo"
      },
      "source": [
        "for label, content in df_tmp.items():\n",
        "    if pd.api.types.is_string_dtype(content):\n",
        "        df_tmp[label] = df_tmp[label].astype('category').cat.as_ordered()"
      ],
      "execution_count": 92,
      "outputs": []
    },
    {
      "cell_type": "code",
      "metadata": {
        "colab": {
          "base_uri": "https://localhost:8080/"
        },
        "id": "s5LZBIwumvNo",
        "outputId": "3392508c-6ade-4995-a2d0-00b548c839d7"
      },
      "source": [
        "df_tmp.info()"
      ],
      "execution_count": 93,
      "outputs": [
        {
          "output_type": "stream",
          "text": [
            "<class 'pandas.core.frame.DataFrame'>\n",
            "RangeIndex: 7101 entries, 0 to 7100\n",
            "Data columns (total 60 columns):\n",
            " #   Column                    Non-Null Count  Dtype   \n",
            "---  ------                    --------------  -----   \n",
            " 0   SalesID                   7101 non-null   int64   \n",
            " 1   SalePrice                 7101 non-null   int64   \n",
            " 2   MachineID                 7101 non-null   int64   \n",
            " 3   ModelID                   7101 non-null   int64   \n",
            " 4   datasource                7101 non-null   int64   \n",
            " 5   auctioneerID              7101 non-null   int64   \n",
            " 6   YearMade                  7101 non-null   category\n",
            " 7   MachineHoursCurrentMeter  7101 non-null   int64   \n",
            " 8   UsageBand                 6200 non-null   category\n",
            " 9   fiModelDesc               7101 non-null   category\n",
            " 10  fiBaseModel               7101 non-null   category\n",
            " 11  fiSecondaryDesc           4621 non-null   category\n",
            " 12  fiModelSeries             975 non-null    category\n",
            " 13  fiModelDescriptor         1730 non-null   category\n",
            " 14  ProductSize               3292 non-null   category\n",
            " 15  fiProductClassDesc        7101 non-null   category\n",
            " 16  state                     7101 non-null   category\n",
            " 17  ProductGroup              7101 non-null   category\n",
            " 18  ProductGroupDesc          7101 non-null   category\n",
            " 19  Drive_System              1579 non-null   category\n",
            " 20  Enclosure                 7097 non-null   category\n",
            " 21  Forks                     3591 non-null   category\n",
            " 22  Pad_Type                  1188 non-null   category\n",
            " 23  Ride_Control              2375 non-null   category\n",
            " 24  Stick                     1188 non-null   category\n",
            " 25  Transmission              2789 non-null   category\n",
            " 26  Turbocharged              1188 non-null   category\n",
            " 27  Blade_Extension           389 non-null    category\n",
            " 28  Blade_Width               389 non-null    category\n",
            " 29  Enclosure_Type            389 non-null    category\n",
            " 30  Engine_Horsepower         389 non-null    category\n",
            " 31  Hydraulics                5891 non-null   category\n",
            " 32  Pushblock                 389 non-null    category\n",
            " 33  Ripper                    1596 non-null   category\n",
            " 34  Scarifier                 389 non-null    category\n",
            " 35  Tip_Control               388 non-null    category\n",
            " 36  Tire_Size                 1573 non-null   category\n",
            " 37  Coupler                   4265 non-null   category\n",
            " 38  Coupler_System            1217 non-null   category\n",
            " 39  Grouser_Tracks            1213 non-null   category\n",
            " 40  Hydraulics_Flow           1213 non-null   category\n",
            " 41  Track_Type                1843 non-null   category\n",
            " 42  Undercarriage_Pad_Width   1855 non-null   category\n",
            " 43  Stick_Length              1843 non-null   category\n",
            " 44  Thumb                     1845 non-null   category\n",
            " 45  Pattern_Changer           1843 non-null   category\n",
            " 46  Grouser_Type              1843 non-null   category\n",
            " 47  Backhoe_Mounting          1204 non-null   category\n",
            " 48  Blade_Type                1216 non-null   category\n",
            " 49  Travel_Controls           1215 non-null   category\n",
            " 50  Differential_Type         1184 non-null   category\n",
            " 51  Steering_Controls         1184 non-null   category\n",
            " 52  Year                      7101 non-null   int64   \n",
            " 53  Day                       7101 non-null   int64   \n",
            " 54  Month                     7101 non-null   int64   \n",
            " 55  MonthStart                7101 non-null   bool    \n",
            " 56  MonthEnd                  7101 non-null   bool    \n",
            " 57  YearStart                 7101 non-null   bool    \n",
            " 58  YearEnd                   7101 non-null   bool    \n",
            " 59  LeapYear                  7101 non-null   bool    \n",
            "dtypes: bool(5), category(45), int64(10)\n",
            "memory usage: 1014.7 KB\n"
          ],
          "name": "stdout"
        }
      ]
    },
    {
      "cell_type": "code",
      "metadata": {
        "id": "Jv-88H8dmvNp"
      },
      "source": [
        "df_tmp['SalePrice'] = df_tmp['SalePrice'].astype('category')"
      ],
      "execution_count": 94,
      "outputs": []
    },
    {
      "cell_type": "code",
      "metadata": {
        "colab": {
          "base_uri": "https://localhost:8080/"
        },
        "id": "FolXbrNVmvNq",
        "outputId": "b274e884-f07a-4ed6-db7f-1ea87ad3413e"
      },
      "source": [
        "df_tmp.isna().sum()[:10]"
      ],
      "execution_count": 95,
      "outputs": [
        {
          "output_type": "execute_result",
          "data": {
            "text/plain": [
              "SalesID                       0\n",
              "SalePrice                     0\n",
              "MachineID                     0\n",
              "ModelID                       0\n",
              "datasource                    0\n",
              "auctioneerID                  0\n",
              "YearMade                      0\n",
              "MachineHoursCurrentMeter      0\n",
              "UsageBand                   901\n",
              "fiModelDesc                   0\n",
              "dtype: int64"
            ]
          },
          "metadata": {
            "tags": []
          },
          "execution_count": 95
        }
      ]
    },
    {
      "cell_type": "code",
      "metadata": {
        "id": "TFvyETXomvNq"
      },
      "source": [
        "for label, content in df_tmp.items():\n",
        "    if not pd.api.types.is_numeric_dtype(content):\n",
        "        df_tmp[label+'_is_missing'] = pd.isnull(content)\n",
        "        df_tmp[label] = pd.Categorical(content).codes + 1"
      ],
      "execution_count": 96,
      "outputs": []
    },
    {
      "cell_type": "code",
      "metadata": {
        "colab": {
          "base_uri": "https://localhost:8080/"
        },
        "id": "wVfw8kM2mvNr",
        "outputId": "5ad2623e-fa04-481a-e6bd-358fb74e8642"
      },
      "source": [
        "df_tmp.isna().sum()[:20]"
      ],
      "execution_count": 97,
      "outputs": [
        {
          "output_type": "execute_result",
          "data": {
            "text/plain": [
              "SalesID                     0\n",
              "SalePrice                   0\n",
              "MachineID                   0\n",
              "ModelID                     0\n",
              "datasource                  0\n",
              "auctioneerID                0\n",
              "YearMade                    0\n",
              "MachineHoursCurrentMeter    0\n",
              "UsageBand                   0\n",
              "fiModelDesc                 0\n",
              "fiBaseModel                 0\n",
              "fiSecondaryDesc             0\n",
              "fiModelSeries               0\n",
              "fiModelDescriptor           0\n",
              "ProductSize                 0\n",
              "fiProductClassDesc          0\n",
              "state                       0\n",
              "ProductGroup                0\n",
              "ProductGroupDesc            0\n",
              "Drive_System                0\n",
              "dtype: int64"
            ]
          },
          "metadata": {
            "tags": []
          },
          "execution_count": 97
        }
      ]
    },
    {
      "cell_type": "markdown",
      "metadata": {
        "id": "4ks2Yf2emvNs"
      },
      "source": [
        "Now we manipulate our data i.e. fill the missing data and convert the object into categorical datatypes. Lets create the machine learning model.\n",
        "\n",
        "<a id='modeling'></a>\n",
        "## 5. Modeling\n",
        "\n",
        "In this section, we train our model and check how much accurate they are at a glance without any change in their hyperparameter. We use three different regression model on our dataset. They are:\n",
        "1. RandomForest Regressor\n",
        "2. Lasso Regressor\n",
        "3. Ridge Regressor"
      ]
    },
    {
      "cell_type": "code",
      "metadata": {
        "id": "gGA6Caq6mvNs"
      },
      "source": [
        "# Save our manipulated datasets\n",
        "df_tmp.to_csv('/content/modified.csv')"
      ],
      "execution_count": 98,
      "outputs": []
    },
    {
      "cell_type": "code",
      "metadata": {
        "id": "gxVuVCOXmvNt"
      },
      "source": [
        "df = pd.read_csv('/content/modified.csv', low_memory=False)"
      ],
      "execution_count": 99,
      "outputs": []
    },
    {
      "cell_type": "code",
      "metadata": {
        "id": "_xlGWZhImvNt"
      },
      "source": [
        "rf_model = RandomForestRegressor(n_jobs=-1, random_state=42, max_samples=6459)"
      ],
      "execution_count": 167,
      "outputs": []
    },
    {
      "cell_type": "code",
      "metadata": {
        "id": "cCDw7UevmvNu"
      },
      "source": [
        "# Lets split the data into train and validation\n",
        "df_valid = df_tmp[df['Year'] == 2011]"
      ],
      "execution_count": 119,
      "outputs": []
    },
    {
      "cell_type": "code",
      "metadata": {
        "id": "-wLJpsFmmvNv"
      },
      "source": [
        "df_train = df_tmp[df['Year'] != 2011]"
      ],
      "execution_count": 120,
      "outputs": []
    },
    {
      "cell_type": "code",
      "metadata": {
        "colab": {
          "base_uri": "https://localhost:8080/"
        },
        "id": "oSPv-tCXmvNv",
        "outputId": "81cdc8f9-5916-4896-e7bf-4fa3c061323f"
      },
      "source": [
        "df_train.shape"
      ],
      "execution_count": 121,
      "outputs": [
        {
          "output_type": "execute_result",
          "data": {
            "text/plain": [
              "(6459, 106)"
            ]
          },
          "metadata": {
            "tags": []
          },
          "execution_count": 121
        }
      ]
    },
    {
      "cell_type": "code",
      "metadata": {
        "colab": {
          "base_uri": "https://localhost:8080/"
        },
        "id": "nlU7wEVnmvNw",
        "outputId": "518b642d-43c5-43d1-fbf0-e6c05e1b57c2"
      },
      "source": [
        "df_valid.shape"
      ],
      "execution_count": 122,
      "outputs": [
        {
          "output_type": "execute_result",
          "data": {
            "text/plain": [
              "(642, 106)"
            ]
          },
          "metadata": {
            "tags": []
          },
          "execution_count": 122
        }
      ]
    },
    {
      "cell_type": "code",
      "metadata": {
        "id": "U7AD68UGmvNx"
      },
      "source": [
        "# Lets split the training datasets into X and y\n",
        "X_train, y_train = df_train.drop('SalePrice', axis=1), df_train['SalePrice']"
      ],
      "execution_count": 123,
      "outputs": []
    },
    {
      "cell_type": "markdown",
      "metadata": {
        "id": "Q3T6TQn8mvNx"
      },
      "source": [
        "Lets train the model using the RandomForest Regression without changing any hyperparameter."
      ]
    },
    {
      "cell_type": "code",
      "metadata": {
        "colab": {
          "base_uri": "https://localhost:8080/"
        },
        "id": "BYZvvUCPmvNx",
        "outputId": "c0cc8f21-b530-4d28-d03b-75bdba7e3e4a"
      },
      "source": [
        "rf_model.fit(X_train, y_train)"
      ],
      "execution_count": 168,
      "outputs": [
        {
          "output_type": "execute_result",
          "data": {
            "text/plain": [
              "RandomForestRegressor(bootstrap=True, ccp_alpha=0.0, criterion='mse',\n",
              "                      max_depth=None, max_features='auto', max_leaf_nodes=None,\n",
              "                      max_samples=6459, min_impurity_decrease=0.0,\n",
              "                      min_impurity_split=None, min_samples_leaf=1,\n",
              "                      min_samples_split=2, min_weight_fraction_leaf=0.0,\n",
              "                      n_estimators=100, n_jobs=-1, oob_score=False,\n",
              "                      random_state=42, verbose=0, warm_start=False)"
            ]
          },
          "metadata": {
            "tags": []
          },
          "execution_count": 168
        }
      ]
    },
    {
      "cell_type": "code",
      "metadata": {
        "id": "D9y7YSVqmvNy"
      },
      "source": [
        "X_test, y_test = df_valid.drop('SalePrice', axis=1), df_valid['SalePrice']"
      ],
      "execution_count": 125,
      "outputs": []
    },
    {
      "cell_type": "code",
      "metadata": {
        "colab": {
          "base_uri": "https://localhost:8080/"
        },
        "id": "XQiSzAXDmvNz",
        "outputId": "f733e050-257b-41b2-8e97-a43fe2ac9bd4"
      },
      "source": [
        "rf_model.get_params()"
      ],
      "execution_count": 126,
      "outputs": [
        {
          "output_type": "execute_result",
          "data": {
            "text/plain": [
              "{'bootstrap': True,\n",
              " 'ccp_alpha': 0.0,\n",
              " 'criterion': 'mse',\n",
              " 'max_depth': None,\n",
              " 'max_features': 'auto',\n",
              " 'max_leaf_nodes': None,\n",
              " 'max_samples': 7000,\n",
              " 'min_impurity_decrease': 0.0,\n",
              " 'min_impurity_split': None,\n",
              " 'min_samples_leaf': 1,\n",
              " 'min_samples_split': 2,\n",
              " 'min_weight_fraction_leaf': 0.0,\n",
              " 'n_estimators': 100,\n",
              " 'n_jobs': -1,\n",
              " 'oob_score': False,\n",
              " 'random_state': 42,\n",
              " 'verbose': 0,\n",
              " 'warm_start': False}"
            ]
          },
          "metadata": {
            "tags": []
          },
          "execution_count": 126
        }
      ]
    },
    {
      "cell_type": "code",
      "metadata": {
        "id": "RpchGtZLmvN0"
      },
      "source": [
        "rf_score = rf_model.score(X_test, y_test)"
      ],
      "execution_count": 127,
      "outputs": []
    },
    {
      "cell_type": "code",
      "metadata": {
        "colab": {
          "base_uri": "https://localhost:8080/"
        },
        "id": "wcuCvFoor1NR",
        "outputId": "e352b8f1-ffd3-49c6-be98-3c01130b48e8"
      },
      "source": [
        "df[\"Year\"].value_counts()"
      ],
      "execution_count": 128,
      "outputs": [
        {
          "output_type": "execute_result",
          "data": {
            "text/plain": [
              "2006    1326\n",
              "2007    1287\n",
              "2009    1251\n",
              "2010     863\n",
              "2005     859\n",
              "2011     642\n",
              "2004     614\n",
              "2008     259\n",
              "Name: Year, dtype: int64"
            ]
          },
          "metadata": {
            "tags": []
          },
          "execution_count": 128
        }
      ]
    },
    {
      "cell_type": "markdown",
      "metadata": {
        "id": "48AS8_aomvN0"
      },
      "source": [
        "Now, we use Lasso Regression and check what increment and decrement we get compare to RandomForest Regression."
      ]
    },
    {
      "cell_type": "code",
      "metadata": {
        "colab": {
          "base_uri": "https://localhost:8080/"
        },
        "id": "sxtE8rVqmvN1",
        "outputId": "9525aa4b-5789-481d-9d84-c180ad78647e"
      },
      "source": [
        "lasso_model = Lasso()\n",
        "lasso_model.fit(X_train, y_train)"
      ],
      "execution_count": 129,
      "outputs": [
        {
          "output_type": "stream",
          "text": [
            "/usr/local/lib/python3.6/dist-packages/sklearn/linear_model/_coordinate_descent.py:476: ConvergenceWarning: Objective did not converge. You might want to increase the number of iterations. Duality gap: 16258.974728756584, tolerance: 1402.893503297724\n",
            "  positive)\n"
          ],
          "name": "stderr"
        },
        {
          "output_type": "execute_result",
          "data": {
            "text/plain": [
              "Lasso(alpha=1.0, copy_X=True, fit_intercept=True, max_iter=1000,\n",
              "      normalize=False, positive=False, precompute=False, random_state=None,\n",
              "      selection='cyclic', tol=0.0001, warm_start=False)"
            ]
          },
          "metadata": {
            "tags": []
          },
          "execution_count": 129
        }
      ]
    },
    {
      "cell_type": "code",
      "metadata": {
        "id": "oL3W1iXwmvN2"
      },
      "source": [
        "lasso_score = lasso_model.score(X_test, y_test)"
      ],
      "execution_count": 130,
      "outputs": []
    },
    {
      "cell_type": "markdown",
      "metadata": {
        "id": "2p5TrQG5mvN3"
      },
      "source": [
        "Lets check out the Ridge Regression and see how much percentage it get accurate in the training phase."
      ]
    },
    {
      "cell_type": "code",
      "metadata": {
        "id": "viEeafw3mvN3"
      },
      "source": [
        "ridge_model = Ridge()\n",
        "ridge_model.fit(X_train, y_train)\n",
        "ridge_score = ridge_model.score(X_test, y_test)"
      ],
      "execution_count": 131,
      "outputs": []
    },
    {
      "cell_type": "markdown",
      "metadata": {
        "id": "nGiagxtomvN4"
      },
      "source": [
        "Lets make the score more visual."
      ]
    },
    {
      "cell_type": "code",
      "metadata": {
        "colab": {
          "base_uri": "https://localhost:8080/",
          "height": 295
        },
        "id": "MqQDptHMmvN6",
        "outputId": "a4bd425b-3b6b-41d8-ab19-4a56d5e9fa33"
      },
      "source": [
        "score = {\"RandomForest Regression\": rf_score,\n",
        "         \"Lasso Regression\": lasso_score,\n",
        "         \"Ridge Regression\": ridge_score\n",
        "}\n",
        "\n",
        "fig, ax = plt.subplots(figsize=(8, 4))\n",
        "plt.bar(score.keys(), score.values(), width=0.4)\n",
        "plt.xticks(ticks=[0, 1, 2], labels=score.keys());\n",
        "plt.title('Model Score Graph')\n",
        "ax.spines['top'].set_visible(False)\n",
        "ax.spines['right'].set_visible(False)\n",
        "ax.spines['left'].set_visible(False)\n",
        "plt.ylabel('Score')\n",
        "plt.xlabel('Model')\n",
        "plt.legend(labels=['score'], loc='upper right', fancybox=True)\n",
        "plt.grid(color='grey', linestyle='--', axis='y');"
      ],
      "execution_count": 169,
      "outputs": [
        {
          "output_type": "display_data",
          "data": {
            "image/png": "[encoded data removed]",
            "text/plain": [
              "<Figure size 576x288 with 1 Axes>"
            ]
          },
          "metadata": {
            "tags": [],
            "needs_background": "light"
          }
        }
      ]
    },
    {
      "cell_type": "markdown",
      "metadata": {
        "id": "oKwuKQtNmvN7"
      },
      "source": [
        "RandomForest Regression and Ridge Regression are the top two from the three. So, we drop the third one and start performing experimentation on this two by changing the hyperparameter tuning."
      ]
    },
    {
      "cell_type": "markdown",
      "metadata": {
        "id": "qhZp7iyxmvN8"
      },
      "source": [
        "<a id='experimentation'></a>\n",
        "## 6. Experimentation\n",
        "\n",
        "In the Experimentation phase we tried to achieved the 90% accurate model and if we get the accuracy of RandomForest Regressor higher than the 90%, then we stop our experimentation and check out, whether our model is not dealing up with the overfitting and underfitting situation.\n",
        "\n",
        "For achieving our goal, we use two different types of methods:\n",
        "1. RandomizedSearch CV\n",
        "2. GridSearch CV\n",
        "\n",
        "<a id='randomizedsearch-cv'></a>\n",
        "### 6.1 RandomizedSearch CV\n",
        "Since our dataset is too large to train the model at once. It takes too much time while fiting the model, so we convert our work in different steps to reduce the experimentation time and focus on making our model more accurate.\n",
        "1. Create a function which give us a model object using RandomizedSearch CV.\n",
        "2. Divide the dataset into mini dataset (25% of original dataset) so that it take less time while training the model.\n",
        "3. Train the model.\n",
        "4. Scoring the model."
      ]
    },
    {
      "cell_type": "code",
      "metadata": {
        "id": "TcV4PfX6mvN9"
      },
      "source": [
        "def randomized_evaluation(estimator, grid):\n",
        "    '''\n",
        "    This function is used to create the model object using the RandomizedSearch CV.\n",
        "    model: machine learning model\n",
        "    grid: hyperparameter dictnary\n",
        "    '''\n",
        "    model = RandomizedSearchCV(estimator, \n",
        "                       param_distributions=grid, \n",
        "                       n_iter=2, \n",
        "                       n_jobs=-1, \n",
        "                       cv=5, \n",
        "                       verbose=True, \n",
        "                       random_state=42)\n",
        "    return model"
      ],
      "execution_count": 133,
      "outputs": []
    },
    {
      "cell_type": "code",
      "metadata": {
        "id": "WF-EfVe6mvN9"
      },
      "source": [
        "forest_grid = {\"n_estimators\": [70, 90, 100],\n",
        "               \"min_samples_split\": [2, 10, 20],\n",
        "               \"max_samples\": [6459]\n",
        "}"
      ],
      "execution_count": 155,
      "outputs": []
    },
    {
      "cell_type": "code",
      "metadata": {
        "id": "8OvwfzY3mvN-"
      },
      "source": [
        "rf_rs_model = randomized_evaluation(RandomForestRegressor(random_state=42), forest_grid)"
      ],
      "execution_count": 156,
      "outputs": []
    },
    {
      "cell_type": "code",
      "metadata": {
        "scrolled": false,
        "colab": {
          "base_uri": "https://localhost:8080/"
        },
        "id": "IQbTNjpfmvN_",
        "outputId": "beee9ff5-7976-4c92-e0b2-d9731f6e4b66"
      },
      "source": [
        "rf_rs_model.fit(X_train, y_train)"
      ],
      "execution_count": 157,
      "outputs": [
        {
          "output_type": "stream",
          "text": [
            "Fitting 5 folds for each of 2 candidates, totalling 10 fits\n"
          ],
          "name": "stdout"
        },
        {
          "output_type": "stream",
          "text": [
            "[Parallel(n_jobs=-1)]: Using backend LokyBackend with 2 concurrent workers.\n",
            "[Parallel(n_jobs=-1)]: Done  10 out of  10 | elapsed:    0.3s finished\n"
          ],
          "name": "stderr"
        },
        {
          "output_type": "execute_result",
          "data": {
            "text/plain": [
              "RandomizedSearchCV(cv=5, error_score=nan,\n",
              "                   estimator=RandomForestRegressor(bootstrap=True,\n",
              "                                                   ccp_alpha=0.0,\n",
              "                                                   criterion='mse',\n",
              "                                                   max_depth=None,\n",
              "                                                   max_features='auto',\n",
              "                                                   max_leaf_nodes=None,\n",
              "                                                   max_samples=None,\n",
              "                                                   min_impurity_decrease=0.0,\n",
              "                                                   min_impurity_split=None,\n",
              "                                                   min_samples_leaf=1,\n",
              "                                                   min_samples_split=2,\n",
              "                                                   min_weight_fraction_leaf=0.0,\n",
              "                                                   n_estimators=100,\n",
              "                                                   n_jobs=None, oob_score=False,\n",
              "                                                   random_state=42, verbose=0,\n",
              "                                                   warm_start=False),\n",
              "                   iid='deprecated', n_iter=2, n_jobs=-1,\n",
              "                   param_distributions={'max_samples': [6459],\n",
              "                                        'min_samples_split': [2, 10, 20],\n",
              "                                        'n_estimators': [70, 90, 100]},\n",
              "                   pre_dispatch='2*n_jobs', random_state=42, refit=True,\n",
              "                   return_train_score=False, scoring=None, verbose=True)"
            ]
          },
          "metadata": {
            "tags": []
          },
          "execution_count": 157
        }
      ]
    },
    {
      "cell_type": "code",
      "metadata": {
        "scrolled": true,
        "colab": {
          "base_uri": "https://localhost:8080/"
        },
        "id": "ZC2eif0pmvOA",
        "outputId": "ecc3d471-5504-4e61-fc87-ce60bc13459f"
      },
      "source": [
        "rf_rs_model.best_params_"
      ],
      "execution_count": 158,
      "outputs": [
        {
          "output_type": "execute_result",
          "data": {
            "text/plain": [
              "{'max_samples': 6459, 'min_samples_split': 20, 'n_estimators': 90}"
            ]
          },
          "metadata": {
            "tags": []
          },
          "execution_count": 158
        }
      ]
    },
    {
      "cell_type": "code",
      "metadata": {
        "id": "6K8oGB9gmvOA"
      },
      "source": [
        "rf_rs_score = rf_rs_model.score(X_test, y_test)"
      ],
      "execution_count": 160,
      "outputs": []
    },
    {
      "cell_type": "markdown",
      "metadata": {
        "id": "LELzU9xsmvOB"
      },
      "source": [
        "<a id ='gridsearch-cv'></a>\n",
        "### 6.2 GridSearch CV"
      ]
    },
    {
      "cell_type": "code",
      "metadata": {
        "id": "dyj861qEmvOB"
      },
      "source": [
        "def gridsearch_evaluation(estimator, grid):\n",
        "    model = GridSearchCV(estimator=estimator, \n",
        "                         param_grid=grid,\n",
        "                         cv=5,\n",
        "                         n_jobs=-1,\n",
        "                         verbose=True)\n",
        "    return model"
      ],
      "execution_count": 140,
      "outputs": []
    },
    {
      "cell_type": "code",
      "metadata": {
        "colab": {
          "base_uri": "https://localhost:8080/"
        },
        "id": "p_JzqwZQmvOC",
        "outputId": "b0cac835-3bf2-44b8-a4c7-93125f71404c"
      },
      "source": [
        "forest_gs_grid = {\"n_estimators\": [90, 100],\n",
        "               \"min_samples_split\": [10, 20],\n",
        "               \"max_samples\": [6459]\n",
        "               }\n",
        "rf_gs_model = gridsearch_evaluation(RandomForestRegressor(random_state=42), forest_gs_grid)\n",
        "rf_gs_model.fit(X_train, y_train)"
      ],
      "execution_count": 149,
      "outputs": [
        {
          "output_type": "stream",
          "text": [
            "Fitting 5 folds for each of 4 candidates, totalling 20 fits\n"
          ],
          "name": "stdout"
        },
        {
          "output_type": "stream",
          "text": [
            "[Parallel(n_jobs=-1)]: Using backend LokyBackend with 2 concurrent workers.\n",
            "[Parallel(n_jobs=-1)]: Done  20 out of  20 | elapsed:    0.5s finished\n"
          ],
          "name": "stderr"
        },
        {
          "output_type": "execute_result",
          "data": {
            "text/plain": [
              "GridSearchCV(cv=5, error_score=nan,\n",
              "             estimator=RandomForestRegressor(bootstrap=True, ccp_alpha=0.0,\n",
              "                                             criterion='mse', max_depth=None,\n",
              "                                             max_features='auto',\n",
              "                                             max_leaf_nodes=None,\n",
              "                                             max_samples=None,\n",
              "                                             min_impurity_decrease=0.0,\n",
              "                                             min_impurity_split=None,\n",
              "                                             min_samples_leaf=1,\n",
              "                                             min_samples_split=2,\n",
              "                                             min_weight_fraction_leaf=0.0,\n",
              "                                             n_estimators=100, n_jobs=None,\n",
              "                                             oob_score=False, random_state=42,\n",
              "                                             verbose=0, warm_start=False),\n",
              "             iid='deprecated', n_jobs=-1,\n",
              "             param_grid={'max_samples': [6459], 'min_samples_split': [10, 20],\n",
              "                         'n_estimators': [90, 100]},\n",
              "             pre_dispatch='2*n_jobs', refit=True, return_train_score=False,\n",
              "             scoring=None, verbose=True)"
            ]
          },
          "metadata": {
            "tags": []
          },
          "execution_count": 149
        }
      ]
    },
    {
      "cell_type": "code",
      "metadata": {
        "id": "5glS056JmvOC"
      },
      "source": [
        "rf_gs_score = rf_gs_model.score(X_test, y_test)"
      ],
      "execution_count": 150,
      "outputs": []
    },
    {
      "cell_type": "code",
      "metadata": {
        "colab": {
          "base_uri": "https://localhost:8080/",
          "height": 372
        },
        "id": "98AqfwWSmvOD",
        "outputId": "df078582-2494-4d9b-f7cb-f0ec59eba37d"
      },
      "source": [
        "score = {\"Defualt\": rf_score,\n",
        "         \"RandomizedSearch CV\": rf_rs_score,\n",
        "         \"GridSearch CV\": rf_gs_score\n",
        "}\n",
        "\n",
        "fig, ax = plt.subplots(figsize=(8,4))\n",
        "plt.bar(score.keys(), score.values())\n",
        "plt.xlabel('Experimentation')\n",
        "plt.ylabel('Score')\n",
        "plt.title('RandomForest Regressor Experimentation')\n",
        "plt.grid(color='grey', linestyle='--', axis='y')\n",
        "ax.spines['top'].set_visible(False)\n",
        "ax.spines['right'].set_visible(False)\n",
        "ax.spines['left'].set_visible(False)\n",
        "plt.xticks(rotation=45);\n"
      ],
      "execution_count": 161,
      "outputs": [
        {
          "output_type": "display_data",
          "data": {
            "image/png": "[encoded data removed]",
            "text/plain": [
              "<Figure size 576x288 with 1 Axes>"
            ]
          },
          "metadata": {
            "tags": [],
            "needs_background": "light"
          }
        }
      ]
    },
    {
      "cell_type": "markdown",
      "metadata": {
        "id": "8oXDE-TAu-GA"
      },
      "source": [
        "So, from the above visualization we can see that RandomForest Regressor by default prediciting the value pretty well. So, Now from the Kaggle Challenge now we have to find out the ```Root Mean Square Log Error``` for checking the errorness in the current best model i.e. RandomForest Regressor without hyperparameter."
      ]
    },
    {
      "cell_type": "code",
      "metadata": {
        "id": "lw_GbSc7mvOE"
      },
      "source": [
        "y_preds = rf_model.predict(X_test)"
      ],
      "execution_count": 162,
      "outputs": []
    },
    {
      "cell_type": "code",
      "metadata": {
        "id": "nnX1c0XumvOE"
      },
      "source": [
        "from sklearn.metrics import mean_squared_log_error"
      ],
      "execution_count": 163,
      "outputs": []
    },
    {
      "cell_type": "code",
      "metadata": {
        "id": "qzarT-HAmvOE"
      },
      "source": [
        "rmsle = np.sqrt(mean_squared_log_error(y_test, y_preds))"
      ],
      "execution_count": 164,
      "outputs": []
    },
    {
      "cell_type": "code",
      "metadata": {
        "colab": {
          "base_uri": "https://localhost:8080/"
        },
        "id": "Apq2yW9imvOF",
        "outputId": "725d93bd-ddf2-47d9-c9dc-ebbcd81f0463"
      },
      "source": [
        "rmsle"
      ],
      "execution_count": 165,
      "outputs": [
        {
          "output_type": "execute_result",
          "data": {
            "text/plain": [
              "0.15877735810975954"
            ]
          },
          "metadata": {
            "tags": []
          },
          "execution_count": 165
        }
      ]
    },
    {
      "cell_type": "markdown",
      "metadata": {
        "id": "jGD0CWI3vJyD"
      },
      "source": [
        "Since we have good score in the Root Mean Square Log Error. So, we stop predicting and training our model here.\r\n",
        "Thank You."
      ]
    },
    {
      "cell_type": "code",
      "metadata": {
        "id": "dh0kHcT4mvOG"
      },
      "source": [
        ""
      ],
      "execution_count": null,
      "outputs": []
    }
  ]
}